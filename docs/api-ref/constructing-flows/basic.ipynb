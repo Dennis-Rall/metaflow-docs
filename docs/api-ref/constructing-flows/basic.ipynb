{
 "cells": [
  {
   "cell_type": "markdown",
   "id": "8d9ba804-e17f-411c-98e4-3924538a905b",
   "metadata": {},
   "source": [
    "# Basic Operations"
   ]
  },
  {
   "cell_type": "code",
   "execution_count": 18,
   "id": "951a9082-be6e-4b20-a41a-28aa59851691",
   "metadata": {},
   "outputs": [],
   "source": [
    "#meta:tag=hide\n",
    "from nbdoc.showdoc import ShowDoc\n",
    "from IPython import display\n",
    "from functools import partial\n",
    "from metaflow import FlowSpec, Parameter\n",
    "from metaflow.current import Current\n",
    "ShowDoc = partial(ShowDoc, module_nm='metaflow')"
   ]
  },
  {
   "cell_type": "code",
   "execution_count": 19,
   "id": "4c0fdfde-9373-43d8-88c1-e7e2146fd502",
   "metadata": {},
   "outputs": [
    {
     "data": {
      "text/html": [
       "<HTMLRemove>\n",
       "<h3> <code>class</code> <span style=\"color:Brown\">FlowSpec</span> <em>(use_cli=True)</em><a href=\"https://github.com/Netflix/metaflow/tree/master/metaflow/flowspec.py#L48\" style=\"float:right\">[source]</a></h3><strong>metaflow</strong><p><blockquote>Main&nbsp;class&nbsp;from&nbsp;which&nbsp;all&nbsp;Flows&nbsp;should&nbsp;inherit.<br><br>Attributes<br>----------<br>script_name<br>index<br>input</blockquote></p>\n",
       "</HTMLRemove>\n",
       "<DocSection type=\"class\" name=\"FlowSpec\" module=\"metaflow\" heading_level=\"3\" link=\"https://github.com/Netflix/metaflow/tree/master/metaflow/flowspec.py#L48\">\n",
       "<SigArgSection>\n",
       "<SigArg name=\"use_cli\" default=\"True\" />\n",
       "</SigArgSection>\n",
       "<Description summary=\"Main class from which all Flows should inherit.\" />\n",
       "<ParamSection name=\"Attributes\">\n",
       "\t<Parameter name=\"script_name\" />\n",
       "\t<Parameter name=\"index\" />\n",
       "\t<Parameter name=\"input\" />\n",
       "</ParamSection>\n",
       "</DocSection>"
      ],
      "text/plain": [
       "<nbdoc.showdoc.ShowDoc at 0x7fb96a6a8970>"
      ]
     },
     "execution_count": 19,
     "metadata": {},
     "output_type": "execute_result"
    }
   ],
   "source": [
    "ShowDoc(FlowSpec)"
   ]
  },
  {
   "cell_type": "code",
   "execution_count": 20,
   "id": "08a492e7-3921-499c-a0e8-1957372eab77",
   "metadata": {},
   "outputs": [
    {
     "data": {
      "text/html": [
       "<HTMLRemove>\n",
       "<h4> <code>method</code> <span style=\"color:Brown\">FlowSpec.next</span> <em>(self, *dsts, **kwargs)</em><a href=\"https://github.com/Netflix/metaflow/tree/master/metaflow/flowspec.py#L484\" style=\"float:right\">[source]</a></h4><strong>metaflow</strong><p><blockquote>Indicates&nbsp;the&nbsp;next&nbsp;step&nbsp;to&nbsp;execute&nbsp;at&nbsp;the&nbsp;end&nbsp;of&nbsp;this&nbsp;step<br><br>This&nbsp;statement&nbsp;should&nbsp;appear&nbsp;once&nbsp;and&nbsp;only&nbsp;once&nbsp;in&nbsp;each&nbsp;and&nbsp;every&nbsp;step&nbsp;(except&nbsp;the&nbsp;`end`<br>step).&nbsp;Furthermore,&nbsp;it&nbsp;should&nbsp;be&nbsp;the&nbsp;last&nbsp;statement&nbsp;in&nbsp;the&nbsp;step.<br><br>There&nbsp;are&nbsp;several&nbsp;valid&nbsp;formats&nbsp;to&nbsp;specify&nbsp;the&nbsp;next&nbsp;step:<br>&nbsp;&nbsp;&nbsp;&nbsp;-&nbsp;Straight-line&nbsp;connection:&nbsp;self.next(self.next_step)&nbsp;where&nbsp;`next_step`&nbsp;is&nbsp;a&nbsp;method&nbsp;in<br>&nbsp;&nbsp;&nbsp;&nbsp;&nbsp;&nbsp;the&nbsp;current&nbsp;class&nbsp;decorated&nbsp;with&nbsp;the&nbsp;`@step`&nbsp;decorator<br>&nbsp;&nbsp;&nbsp;&nbsp;-&nbsp;Static&nbsp;fan-out&nbsp;connection:&nbsp;self.next(self.step1,&nbsp;self.step2,&nbsp;...)&nbsp;where&nbsp;`stepX`&nbsp;are<br>&nbsp;&nbsp;&nbsp;&nbsp;&nbsp;&nbsp;methods&nbsp;in&nbsp;the&nbsp;current&nbsp;class&nbsp;decorated&nbsp;with&nbsp;the&nbsp;`@step`&nbsp;decorator<br>&nbsp;&nbsp;&nbsp;&nbsp;-&nbsp;Foreach&nbsp;branch:<br>&nbsp;&nbsp;&nbsp;&nbsp;&nbsp;&nbsp;&nbsp;&nbsp;self.next(self.foreach_step,&nbsp;foreach='foreach_iterator')<br>&nbsp;&nbsp;&nbsp;&nbsp;&nbsp;&nbsp;In&nbsp;this&nbsp;situation,&nbsp;`foreach_step`&nbsp;is&nbsp;a&nbsp;method&nbsp;in&nbsp;the&nbsp;current&nbsp;class&nbsp;decorated&nbsp;with&nbsp;the<br>&nbsp;&nbsp;&nbsp;&nbsp;&nbsp;&nbsp;`@step`&nbsp;docorator&nbsp;and&nbsp;`foreach_iterator`&nbsp;is&nbsp;a&nbsp;variable&nbsp;name&nbsp;in&nbsp;the&nbsp;current&nbsp;class&nbsp;that<br>&nbsp;&nbsp;&nbsp;&nbsp;&nbsp;&nbsp;evaluates&nbsp;to&nbsp;an&nbsp;iterator.&nbsp;A&nbsp;task&nbsp;will&nbsp;be&nbsp;launched&nbsp;for&nbsp;each&nbsp;value&nbsp;in&nbsp;the&nbsp;iterator&nbsp;and<br>&nbsp;&nbsp;&nbsp;&nbsp;&nbsp;&nbsp;each&nbsp;task&nbsp;will&nbsp;execute&nbsp;the&nbsp;code&nbsp;specified&nbsp;by&nbsp;the&nbsp;step&nbsp;`foreach_step`.<br><br>Raises<br>------<br>InvalidNextException<br>&nbsp;&nbsp;&nbsp;&nbsp;Raised&nbsp;if&nbsp;the&nbsp;format&nbsp;of&nbsp;the&nbsp;arguments&nbsp;does&nbsp;not&nbsp;match&nbsp;one&nbsp;of&nbsp;the&nbsp;ones&nbsp;given&nbsp;above.</blockquote></p>\n",
       "</HTMLRemove>\n",
       "<DocSection type=\"method\" name=\"FlowSpec.next\" module=\"metaflow\" heading_level=\"4\" link=\"https://github.com/Netflix/metaflow/tree/master/metaflow/flowspec.py#L484\">\n",
       "<SigArgSection>\n",
       "<SigArg name=\"self\" /><SigArg name=\"*dsts\" /><SigArg name=\"**kwargs\" />\n",
       "</SigArgSection>\n",
       "<Description summary=\"Indicates the next step to execute at the end of this step\" extended_summary=\"This statement should appear once and only once in each and every step (except the `end`\\nstep). Furthermore, it should be the last statement in the step.\\n\\nThere are several valid formats to specify the next step:\\n    - Straight-line connection: self.next(self.next_step) where `next_step` is a method in\\n      the current class decorated with the `@step` decorator\\n    - Static fan-out connection: self.next(self.step1, self.step2, ...) where `stepX` are\\n      methods in the current class decorated with the `@step` decorator\\n    - Foreach branch:\\n        self.next(self.foreach_step, foreach='foreach_iterator')\\n      In this situation, `foreach_step` is a method in the current class decorated with the\\n      `@step` docorator and `foreach_iterator` is a variable name in the current class that\\n      evaluates to an iterator. A task will be launched for each value in the iterator and\\n      each task will execute the code specified by the step `foreach_step`.\" />\n",
       "<ParamSection name=\"Raises\">\n",
       "\t<Parameter type=\"InvalidNextException\" desc=\"Raised if the format of the arguments does not match one of the ones given above.\" />\n",
       "</ParamSection>\n",
       "</DocSection>"
      ],
      "text/plain": [
       "<nbdoc.showdoc.ShowDoc at 0x7fb958a1b820>"
      ]
     },
     "execution_count": 20,
     "metadata": {},
     "output_type": "execute_result"
    }
   ],
   "source": [
    "ShowDoc(FlowSpec.next)"
   ]
  },
  {
   "cell_type": "code",
   "execution_count": 21,
   "id": "0bd9f6b9-fa28-4b9a-9b1d-055d1052579e",
   "metadata": {},
   "outputs": [
    {
     "data": {
      "text/html": [
       "<HTMLRemove>\n",
       "<h4> <code>method</code> <span style=\"color:Brown\">FlowSpec.foreach_stack</span> <em>(self)</em><a href=\"https://github.com/Netflix/metaflow/tree/master/metaflow/flowspec.py#L271\" style=\"float:right\">[source]</a></h4><strong>metaflow</strong><p><blockquote>Returns&nbsp;the&nbsp;current&nbsp;stack&nbsp;of&nbsp;foreach&nbsp;steps&nbsp;for&nbsp;the&nbsp;current&nbsp;step<br><br>This&nbsp;effectively&nbsp;corresponds&nbsp;to&nbsp;the&nbsp;indexes&nbsp;and&nbsp;values&nbsp;at&nbsp;the&nbsp;various&nbsp;levels&nbsp;of&nbsp;nesting.<br>For&nbsp;example,&nbsp;considering&nbsp;the&nbsp;following&nbsp;code:<br>```<br>@step<br>def&nbsp;root(self):<br>&nbsp;&nbsp;&nbsp;&nbsp;self.split_1&nbsp;=&nbsp;['a',&nbsp;'b',&nbsp;'c']<br>&nbsp;&nbsp;&nbsp;&nbsp;self.next(self.nest_1,&nbsp;foreach='split_1')<br><br>@step<br>def&nbsp;nest_1(self):<br>&nbsp;&nbsp;&nbsp;&nbsp;self.split_2&nbsp;=&nbsp;['d',&nbsp;'e',&nbsp;'f',&nbsp;'g']<br>&nbsp;&nbsp;&nbsp;&nbsp;self.next(self.nest_2,&nbsp;foreach='split_2'):<br><br>@step<br>def&nbsp;nest_2(self):<br>&nbsp;&nbsp;&nbsp;&nbsp;foo&nbsp;=&nbsp;self.foreach_stack()<br>```<br>foo&nbsp;will&nbsp;take&nbsp;the&nbsp;following&nbsp;values&nbsp;in&nbsp;the&nbsp;various&nbsp;tasks&nbsp;for&nbsp;nest_2:<br>&nbsp;&nbsp;&nbsp;&nbsp;[(0,&nbsp;3,&nbsp;'a'),&nbsp;(0,&nbsp;4,&nbsp;'d')]<br>&nbsp;&nbsp;&nbsp;&nbsp;[(0,&nbsp;3,&nbsp;'a'),&nbsp;(1,&nbsp;4,&nbsp;'e')]<br>&nbsp;&nbsp;&nbsp;&nbsp;...<br>&nbsp;&nbsp;&nbsp;&nbsp;[(0,&nbsp;3,&nbsp;'a'),&nbsp;(3,&nbsp;4,&nbsp;'g')]<br>&nbsp;&nbsp;&nbsp;&nbsp;[(1,&nbsp;3,&nbsp;'b'),&nbsp;(0,&nbsp;4,&nbsp;'d')]<br>&nbsp;&nbsp;&nbsp;&nbsp;...<br><br>where&nbsp;each&nbsp;tuple&nbsp;corresponds&nbsp;to:<br>&nbsp;&nbsp;&nbsp;&nbsp;-&nbsp;the&nbsp;index&nbsp;of&nbsp;the&nbsp;task&nbsp;for&nbsp;that&nbsp;level&nbsp;of&nbsp;the&nbsp;loop<br>&nbsp;&nbsp;&nbsp;&nbsp;-&nbsp;the&nbsp;number&nbsp;of&nbsp;splits&nbsp;for&nbsp;that&nbsp;level&nbsp;of&nbsp;the&nbsp;loop<br>&nbsp;&nbsp;&nbsp;&nbsp;-&nbsp;the&nbsp;value&nbsp;for&nbsp;that&nbsp;level&nbsp;of&nbsp;the&nbsp;loop<br>Note&nbsp;that&nbsp;the&nbsp;last&nbsp;tuple&nbsp;returned&nbsp;in&nbsp;a&nbsp;task&nbsp;corresponds&nbsp;to:<br>&nbsp;&nbsp;&nbsp;&nbsp;-&nbsp;first&nbsp;element:&nbsp;value&nbsp;returned&nbsp;by&nbsp;self.index<br>&nbsp;&nbsp;&nbsp;&nbsp;-&nbsp;third&nbsp;element:&nbsp;value&nbsp;returned&nbsp;by&nbsp;self.input<br><br>Returns<br>-------<br>List[Tuple[int,&nbsp;int,&nbsp;object]]<br>&nbsp;&nbsp;&nbsp;&nbsp;An&nbsp;array&nbsp;describing&nbsp;the&nbsp;current&nbsp;stack&nbsp;of&nbsp;foreach&nbsp;steps</blockquote></p>\n",
       "</HTMLRemove>\n",
       "<DocSection type=\"method\" name=\"FlowSpec.foreach_stack\" module=\"metaflow\" heading_level=\"4\" link=\"https://github.com/Netflix/metaflow/tree/master/metaflow/flowspec.py#L271\">\n",
       "<SigArgSection>\n",
       "<SigArg name=\"self\" />\n",
       "</SigArgSection>\n",
       "<Description summary=\"Returns the current stack of foreach steps for the current step\" extended_summary=\"This effectively corresponds to the indexes and values at the various levels of nesting.\\nFor example, considering the following code:\\n```\\n@step\\ndef root(self):\\n    self.split_1 = ['a', 'b', 'c']\\n    self.next(self.nest_1, foreach='split_1')\\n\\n@step\\ndef nest_1(self):\\n    self.split_2 = ['d', 'e', 'f', 'g']\\n    self.next(self.nest_2, foreach='split_2'):\\n\\n@step\\ndef nest_2(self):\\n    foo = self.foreach_stack()\\n```\\nfoo will take the following values in the various tasks for nest_2:\\n    [(0, 3, 'a'), (0, 4, 'd')]\\n    [(0, 3, 'a'), (1, 4, 'e')]\\n    ...\\n    [(0, 3, 'a'), (3, 4, 'g')]\\n    [(1, 3, 'b'), (0, 4, 'd')]\\n    ...\\n\\nwhere each tuple corresponds to:\\n    - the index of the task for that level of the loop\\n    - the number of splits for that level of the loop\\n    - the value for that level of the loop\\nNote that the last tuple returned in a task corresponds to:\\n    - first element: value returned by self.index\\n    - third element: value returned by self.input\" />\n",
       "<ParamSection name=\"Returns\">\n",
       "\t<Parameter type=\"List[Tuple[int, int, object]]\" desc=\"An array describing the current stack of foreach steps\" />\n",
       "</ParamSection>\n",
       "</DocSection>"
      ],
      "text/plain": [
       "<nbdoc.showdoc.ShowDoc at 0x7fb958a5a340>"
      ]
     },
     "execution_count": 21,
     "metadata": {},
     "output_type": "execute_result"
    }
   ],
   "source": [
    "ShowDoc(FlowSpec.foreach_stack)"
   ]
  }
 ],
 "metadata": {
  "kernelspec": {
   "display_name": "Python 3.9.7 ('base')",
   "language": "python",
   "name": "python397jvsc74a57bd042fd40e048e0585f88ec242f050f7ef0895cf845a8dd1159352394e5826cd102"
  },
  "language_info": {
   "codemirror_mode": {
    "name": "ipython",
    "version": 3
   },
   "file_extension": ".py",
   "mimetype": "text/x-python",
   "name": "python",
   "nbconvert_exporter": "python",
   "pygments_lexer": "ipython3",
   "version": "3.9.7"
  }
 },
 "nbformat": 4,
 "nbformat_minor": 5
}
