{
 "cells": [
  {
   "cell_type": "markdown",
   "id": "59be5db5-735b-47f6-97b3-54da8188ceb6",
   "metadata": {},
   "source": [
    "# Decorators"
   ]
  },
  {
   "cell_type": "code",
   "execution_count": 1,
   "id": "1a412f85-7aa4-4a44-a234-fe0191570f3c",
   "metadata": {
    "execution": {
     "iopub.execute_input": "2022-06-15T19:29:08.616948Z",
     "iopub.status.busy": "2022-06-15T19:29:08.610565Z",
     "iopub.status.idle": "2022-06-15T19:29:09.967473Z",
     "shell.execute_reply": "2022-06-15T19:29:09.966741Z"
    }
   },
   "outputs": [],
   "source": [
    "#meta:tag=hide\n",
    "from nbdoc.showdoc import ShowDoc\n",
    "from IPython import display\n",
    "from functools import partial\n",
    "from metaflow import batch,card,catch,conda,kubernetes,parallel,project,resources,step\n",
    "ShowDoc = partial(ShowDoc, decorator=True, module_nm='metaflow')"
   ]
  },
  {
   "cell_type": "code",
   "execution_count": 2,
   "id": "25a2d4a7-d004-41fd-a661-54bbaab57e5f",
   "metadata": {
    "execution": {
     "iopub.execute_input": "2022-06-15T19:29:09.972037Z",
     "iopub.status.busy": "2022-06-15T19:29:09.971287Z",
     "iopub.status.idle": "2022-06-15T19:29:09.986791Z",
     "shell.execute_reply": "2022-06-15T19:29:09.987458Z"
    }
   },
   "outputs": [
    {
     "data": {
      "text/html": [
       "<HTMLRemove>\n",
       "<h3> <code>decorator</code> <span style=\"color:Brown\">@batch</span> <em>(...)</em><a href=\"https://github.com/Netflix/metaflow/tree/master/metaflow/plugins/aws/batch/batch_decorator.py#L30\" style=\"float:right\">[source]</a></h3><strong>metaflow</strong><p><blockquote>Step&nbsp;decorator&nbsp;to&nbsp;specify&nbsp;that&nbsp;this&nbsp;step&nbsp;should&nbsp;execute&nbsp;on&nbsp;AWS&nbsp;Batch.<br><br>This&nbsp;decorator&nbsp;indicates&nbsp;that&nbsp;your&nbsp;step&nbsp;should&nbsp;execute&nbsp;on&nbsp;AWS&nbsp;Batch.&nbsp;Note<br>that&nbsp;you&nbsp;can&nbsp;apply&nbsp;this&nbsp;decorator&nbsp;automatically&nbsp;to&nbsp;all&nbsp;steps&nbsp;using&nbsp;the<br>```--with&nbsp;batch```&nbsp;argument&nbsp;when&nbsp;calling&nbsp;run/resume.&nbsp;Step&nbsp;level&nbsp;decorators<br>within&nbsp;the&nbsp;code&nbsp;are&nbsp;overrides&nbsp;and&nbsp;will&nbsp;force&nbsp;a&nbsp;step&nbsp;to&nbsp;execute&nbsp;on&nbsp;AWS&nbsp;Batch<br>regardless&nbsp;of&nbsp;the&nbsp;```--with```&nbsp;specification.<br><br>To&nbsp;use,&nbsp;annotate&nbsp;your&nbsp;step&nbsp;as&nbsp;follows:<br>```<br>@batch<br>@step<br>def&nbsp;my_step(self):<br>&nbsp;&nbsp;&nbsp;&nbsp;...<br>```<br><br>Parameters<br>----------<br>cpu&nbsp;:&nbsp;int<br>&nbsp;&nbsp;&nbsp;&nbsp;Number&nbsp;of&nbsp;CPUs&nbsp;required&nbsp;for&nbsp;this&nbsp;step.&nbsp;Defaults&nbsp;to&nbsp;1.&nbsp;If&nbsp;@resources&nbsp;is<br>&nbsp;&nbsp;&nbsp;&nbsp;also&nbsp;present,&nbsp;the&nbsp;maximum&nbsp;value&nbsp;from&nbsp;all&nbsp;decorators&nbsp;is&nbsp;used<br>gpu&nbsp;:&nbsp;int<br>&nbsp;&nbsp;&nbsp;&nbsp;Number&nbsp;of&nbsp;GPUs&nbsp;required&nbsp;for&nbsp;this&nbsp;step.&nbsp;Defaults&nbsp;to&nbsp;0.&nbsp;If&nbsp;@resources&nbsp;is<br>&nbsp;&nbsp;&nbsp;&nbsp;also&nbsp;present,&nbsp;the&nbsp;maximum&nbsp;value&nbsp;from&nbsp;all&nbsp;decorators&nbsp;is&nbsp;used<br>memory&nbsp;:&nbsp;int<br>&nbsp;&nbsp;&nbsp;&nbsp;Memory&nbsp;size&nbsp;(in&nbsp;MB)&nbsp;required&nbsp;for&nbsp;this&nbsp;step.&nbsp;Defaults&nbsp;to&nbsp;4096.&nbsp;If<br>&nbsp;&nbsp;&nbsp;&nbsp;@resources&nbsp;is&nbsp;also&nbsp;present,&nbsp;the&nbsp;maximum&nbsp;value&nbsp;from&nbsp;all&nbsp;decorators&nbsp;is<br>&nbsp;&nbsp;&nbsp;&nbsp;used<br>image&nbsp;:&nbsp;string<br>&nbsp;&nbsp;&nbsp;&nbsp;Docker&nbsp;image&nbsp;to&nbsp;use&nbsp;when&nbsp;launching&nbsp;on&nbsp;AWS&nbsp;Batch.&nbsp;If&nbsp;not&nbsp;specified,&nbsp;a<br>&nbsp;&nbsp;&nbsp;&nbsp;default&nbsp;docker&nbsp;image&nbsp;mapping&nbsp;to&nbsp;the&nbsp;current&nbsp;version&nbsp;of&nbsp;Python&nbsp;is&nbsp;used<br>queue&nbsp;:&nbsp;string<br>&nbsp;&nbsp;&nbsp;&nbsp;AWS&nbsp;Batch&nbsp;Job&nbsp;Queue&nbsp;to&nbsp;submit&nbsp;the&nbsp;job&nbsp;to.&nbsp;Defaults&nbsp;to&nbsp;the&nbsp;one<br>&nbsp;&nbsp;&nbsp;&nbsp;specified&nbsp;by&nbsp;the&nbsp;environment&nbsp;variable&nbsp;METAFLOW_BATCH_JOB_QUEUE<br>iam_role&nbsp;:&nbsp;string<br>&nbsp;&nbsp;&nbsp;&nbsp;AWS&nbsp;IAM&nbsp;role&nbsp;that&nbsp;AWS&nbsp;Batch&nbsp;container&nbsp;uses&nbsp;to&nbsp;access&nbsp;AWS&nbsp;cloud&nbsp;resources<br>&nbsp;&nbsp;&nbsp;&nbsp;(Amazon&nbsp;S3,&nbsp;Amazon&nbsp;DynamoDb,&nbsp;etc).&nbsp;Defaults&nbsp;to&nbsp;the&nbsp;one&nbsp;specified&nbsp;by&nbsp;the<br>&nbsp;&nbsp;&nbsp;&nbsp;environment&nbsp;variable&nbsp;METAFLOW_ECS_S3_ACCESS_IAM_ROLE<br>execution_role&nbsp;:&nbsp;string<br>&nbsp;&nbsp;&nbsp;&nbsp;AWS&nbsp;IAM&nbsp;role&nbsp;that&nbsp;AWS&nbsp;Batch&nbsp;can&nbsp;use&nbsp;to&nbsp;trigger&nbsp;AWS&nbsp;Fargate&nbsp;tasks.<br>&nbsp;&nbsp;&nbsp;&nbsp;Defaults&nbsp;to&nbsp;the&nbsp;one&nbsp;determined&nbsp;by&nbsp;the&nbsp;environment&nbsp;variable<br>&nbsp;&nbsp;&nbsp;&nbsp;METAFLOW_ECS_FARGATE_EXECUTION_ROLE&nbsp;https://docs.aws.amazon.com/batch/latest/userguide/execution-IAM-role.html<br>shared_memory&nbsp;:&nbsp;int<br>&nbsp;&nbsp;&nbsp;&nbsp;The&nbsp;value&nbsp;for&nbsp;the&nbsp;size&nbsp;(in&nbsp;MiB)&nbsp;of&nbsp;the&nbsp;/dev/shm&nbsp;volume&nbsp;for&nbsp;this&nbsp;step.<br>&nbsp;&nbsp;&nbsp;&nbsp;This&nbsp;parameter&nbsp;maps&nbsp;to&nbsp;the&nbsp;--shm-size&nbsp;option&nbsp;to&nbsp;docker&nbsp;run.<br>max_swap&nbsp;:&nbsp;int<br>&nbsp;&nbsp;&nbsp;&nbsp;The&nbsp;total&nbsp;amount&nbsp;of&nbsp;swap&nbsp;memory&nbsp;(in&nbsp;MiB)&nbsp;a&nbsp;container&nbsp;can&nbsp;use&nbsp;for&nbsp;this<br>&nbsp;&nbsp;&nbsp;&nbsp;step.&nbsp;This&nbsp;parameter&nbsp;is&nbsp;translated&nbsp;to&nbsp;the&nbsp;--memory-swap&nbsp;option&nbsp;to<br>&nbsp;&nbsp;&nbsp;&nbsp;docker&nbsp;run&nbsp;where&nbsp;the&nbsp;value&nbsp;is&nbsp;the&nbsp;sum&nbsp;of&nbsp;the&nbsp;container&nbsp;memory&nbsp;plus&nbsp;the<br>&nbsp;&nbsp;&nbsp;&nbsp;max_swap&nbsp;value.<br>swappiness&nbsp;:&nbsp;int<br>&nbsp;&nbsp;&nbsp;&nbsp;This&nbsp;allows&nbsp;you&nbsp;to&nbsp;tune&nbsp;memory&nbsp;swappiness&nbsp;behavior&nbsp;for&nbsp;this&nbsp;step.<br>&nbsp;&nbsp;&nbsp;&nbsp;A&nbsp;swappiness&nbsp;value&nbsp;of&nbsp;0&nbsp;causes&nbsp;swapping&nbsp;not&nbsp;to&nbsp;happen&nbsp;unless&nbsp;absolutely<br>&nbsp;&nbsp;&nbsp;&nbsp;necessary.&nbsp;A&nbsp;swappiness&nbsp;value&nbsp;of&nbsp;100&nbsp;causes&nbsp;pages&nbsp;to&nbsp;be&nbsp;swapped&nbsp;very<br>&nbsp;&nbsp;&nbsp;&nbsp;aggressively.&nbsp;Accepted&nbsp;values&nbsp;are&nbsp;whole&nbsp;numbers&nbsp;between&nbsp;0&nbsp;and&nbsp;100.</blockquote></p>\n",
       "</HTMLRemove>\n",
       "<DocSection type=\"decorator\" name=\"batch\" module=\"metaflow\" heading_level=\"3\" link=\"https://github.com/Netflix/metaflow/tree/master/metaflow/plugins/aws/batch/batch_decorator.py#L30\">\n",
       "<SigArgSection>\n",
       "<SigArg name=\"...\" />\n",
       "</SigArgSection>\n",
       "<Description summary=\"Step decorator to specify that this step should execute on AWS Batch.\" extended_summary=\"This decorator indicates that your step should execute on AWS Batch. Note\\nthat you can apply this decorator automatically to all steps using the\\n```--with batch``` argument when calling run/resume. Step level decorators\\nwithin the code are overrides and will force a step to execute on AWS Batch\\nregardless of the ```--with``` specification.\\n\\nTo use, annotate your step as follows:\\n```\\n@batch\\n@step\\ndef my_step(self):\\n    ...\\n```\" />\n",
       "<ParamSection name=\"Parameters\">\n",
       "\t<Parameter name=\"cpu\" type=\"int\" desc=\"Number of CPUs required for this step. Defaults to 1. If @resources is\\nalso present, the maximum value from all decorators is used\" />\n",
       "\t<Parameter name=\"gpu\" type=\"int\" desc=\"Number of GPUs required for this step. Defaults to 0. If @resources is\\nalso present, the maximum value from all decorators is used\" />\n",
       "\t<Parameter name=\"memory\" type=\"int\" desc=\"Memory size (in MB) required for this step. Defaults to 4096. If\\n@resources is also present, the maximum value from all decorators is\\nused\" />\n",
       "\t<Parameter name=\"image\" type=\"string\" desc=\"Docker image to use when launching on AWS Batch. If not specified, a\\ndefault docker image mapping to the current version of Python is used\" />\n",
       "\t<Parameter name=\"queue\" type=\"string\" desc=\"AWS Batch Job Queue to submit the job to. Defaults to the one\\nspecified by the environment variable METAFLOW_BATCH_JOB_QUEUE\" />\n",
       "\t<Parameter name=\"iam_role\" type=\"string\" desc=\"AWS IAM role that AWS Batch container uses to access AWS cloud resources\\n(Amazon S3, Amazon DynamoDb, etc). Defaults to the one specified by the\\nenvironment variable METAFLOW_ECS_S3_ACCESS_IAM_ROLE\" />\n",
       "\t<Parameter name=\"execution_role\" type=\"string\" desc=\"AWS IAM role that AWS Batch can use to trigger AWS Fargate tasks.\\nDefaults to the one determined by the environment variable\\nMETAFLOW_ECS_FARGATE_EXECUTION_ROLE https://docs.aws.amazon.com/batch/latest/userguide/execution-IAM-role.html\" />\n",
       "\t<Parameter name=\"shared_memory\" type=\"int\" desc=\"The value for the size (in MiB) of the /dev/shm volume for this step.\\nThis parameter maps to the --shm-size option to docker run.\" />\n",
       "\t<Parameter name=\"max_swap\" type=\"int\" desc=\"The total amount of swap memory (in MiB) a container can use for this\\nstep. This parameter is translated to the --memory-swap option to\\ndocker run where the value is the sum of the container memory plus the\\nmax_swap value.\" />\n",
       "\t<Parameter name=\"swappiness\" type=\"int\" desc=\"This allows you to tune memory swappiness behavior for this step.\\nA swappiness value of 0 causes swapping not to happen unless absolutely\\nnecessary. A swappiness value of 100 causes pages to be swapped very\\naggressively. Accepted values are whole numbers between 0 and 100.\" />\n",
       "</ParamSection>\n",
       "<ParamSection name=\"Attributes\">\n",
       "\t<Parameter name=\"package_sha\" />\n",
       "\t<Parameter name=\"package_url\" />\n",
       "\t<Parameter name=\"run_time_limit\" />\n",
       "</ParamSection>\n",
       "</DocSection>"
      ],
      "text/plain": [
       "<nbdoc.showdoc.ShowDoc at 0x7f95904905b0>"
      ]
     },
     "execution_count": 2,
     "metadata": {},
     "output_type": "execute_result"
    }
   ],
   "source": [
    "ShowDoc(batch)"
   ]
  },
  {
   "cell_type": "code",
   "execution_count": 3,
   "id": "ce043b5d-c90f-4c17-b8f3-f7410566f285",
   "metadata": {
    "execution": {
     "iopub.execute_input": "2022-06-15T19:29:10.011911Z",
     "iopub.status.busy": "2022-06-15T19:29:09.994472Z",
     "iopub.status.idle": "2022-06-15T19:29:10.031230Z",
     "shell.execute_reply": "2022-06-15T19:29:10.032057Z"
    }
   },
   "outputs": [
    {
     "data": {
      "text/html": [
       "<HTMLRemove>\n",
       "<h3> <code>decorator</code> <span style=\"color:Brown\">@card</span> <em>(...)</em><a href=\"https://github.com/Netflix/metaflow/tree/master/metaflow/plugins/cards/card_decorator.py#L24\" style=\"float:right\">[source]</a></h3><strong>metaflow</strong><p><blockquote>Base&nbsp;class&nbsp;for&nbsp;all&nbsp;step&nbsp;decorators.<br><br>Example:<br><br>@my_decorator<br>@step<br>def&nbsp;a(self):<br>&nbsp;&nbsp;&nbsp;&nbsp;pass<br><br>@my_decorator<br>@step<br>def&nbsp;b(self):<br>&nbsp;&nbsp;&nbsp;&nbsp;pass<br><br>To&nbsp;make&nbsp;the&nbsp;above&nbsp;work,&nbsp;define&nbsp;a&nbsp;subclass<br><br>class&nbsp;MyDecorator(StepDecorator):<br>&nbsp;&nbsp;&nbsp;&nbsp;name&nbsp;=&nbsp;\"my_decorator\"<br><br>and&nbsp;include&nbsp;it&nbsp;in&nbsp;plugins.STEP_DECORATORS.&nbsp;Now&nbsp;both&nbsp;a()&nbsp;and&nbsp;b()<br>get&nbsp;an&nbsp;instance&nbsp;of&nbsp;MyDecorator,&nbsp;so&nbsp;you&nbsp;can&nbsp;keep&nbsp;step-specific<br>state&nbsp;easily.<br><br>TODO&nbsp;(savin):&nbsp;Initialize&nbsp;the&nbsp;decorators&nbsp;with&nbsp;flow,&nbsp;graph,<br>&nbsp;&nbsp;&nbsp;&nbsp;&nbsp;&nbsp;&nbsp;&nbsp;&nbsp;&nbsp;&nbsp;&nbsp;&nbsp;&nbsp;step.__name__&nbsp;etc.,&nbsp;so&nbsp;that&nbsp;we&nbsp;don't&nbsp;have&nbsp;to<br>&nbsp;&nbsp;&nbsp;&nbsp;&nbsp;&nbsp;&nbsp;&nbsp;&nbsp;&nbsp;&nbsp;&nbsp;&nbsp;&nbsp;pass&nbsp;them&nbsp;around&nbsp;with&nbsp;every&nbsp;lifecycle&nbsp;call.</blockquote></p>\n",
       "</HTMLRemove>\n",
       "<DocSection type=\"decorator\" name=\"card\" module=\"metaflow\" heading_level=\"3\" link=\"https://github.com/Netflix/metaflow/tree/master/metaflow/plugins/cards/card_decorator.py#L24\">\n",
       "<SigArgSection>\n",
       "<SigArg name=\"...\" />\n",
       "</SigArgSection>\n",
       "\n",
       "\n",
       "</DocSection>"
      ],
      "text/plain": [
       "<nbdoc.showdoc.ShowDoc at 0x7f95b0a43670>"
      ]
     },
     "execution_count": 3,
     "metadata": {},
     "output_type": "execute_result"
    }
   ],
   "source": [
    "ShowDoc(card)"
   ]
  },
  {
   "cell_type": "code",
   "execution_count": 4,
   "id": "af7d648b-1d66-42da-af7a-aeb208ffb00b",
   "metadata": {
    "execution": {
     "iopub.execute_input": "2022-06-15T19:29:10.036820Z",
     "iopub.status.busy": "2022-06-15T19:29:10.035830Z",
     "iopub.status.idle": "2022-06-15T19:29:10.041105Z",
     "shell.execute_reply": "2022-06-15T19:29:10.041764Z"
    }
   },
   "outputs": [
    {
     "data": {
      "text/html": [
       "<HTMLRemove>\n",
       "<h3> <code>decorator</code> <span style=\"color:Brown\">@catch</span> <em>(...)</em><a href=\"https://github.com/Netflix/metaflow/tree/master/metaflow/plugins/catch_decorator.py#L22\" style=\"float:right\">[source]</a></h3><strong>metaflow</strong><p><blockquote>Step&nbsp;decorator&nbsp;to&nbsp;specify&nbsp;error&nbsp;handling&nbsp;for&nbsp;your&nbsp;step.<br><br>This&nbsp;decorator&nbsp;indicates&nbsp;that&nbsp;exceptions&nbsp;in&nbsp;the&nbsp;step&nbsp;should&nbsp;be&nbsp;caught&nbsp;and&nbsp;not&nbsp;fail&nbsp;the&nbsp;entire<br>flow.<br><br>This&nbsp;can&nbsp;be&nbsp;used&nbsp;in&nbsp;conjunction&nbsp;with&nbsp;the&nbsp;@retry&nbsp;decorator.&nbsp;In&nbsp;that&nbsp;case,&nbsp;catch&nbsp;will&nbsp;only<br>activate&nbsp;if&nbsp;all&nbsp;retries&nbsp;fail&nbsp;and&nbsp;will&nbsp;catch&nbsp;the&nbsp;last&nbsp;exception&nbsp;thrown&nbsp;by&nbsp;the&nbsp;last&nbsp;retry.<br><br>To&nbsp;use,&nbsp;annotate&nbsp;your&nbsp;step&nbsp;as&nbsp;follows:<br>```<br>@catch(var='foo')<br>@step<br>def&nbsp;myStep(self):<br>&nbsp;&nbsp;&nbsp;&nbsp;...<br>```<br><br>Parameters<br>----------<br>var&nbsp;:&nbsp;string<br>&nbsp;&nbsp;&nbsp;&nbsp;Name&nbsp;of&nbsp;the&nbsp;artifact&nbsp;in&nbsp;which&nbsp;to&nbsp;store&nbsp;the&nbsp;caught&nbsp;exception.&nbsp;If&nbsp;not&nbsp;specified,<br>&nbsp;&nbsp;&nbsp;&nbsp;the&nbsp;exception&nbsp;is&nbsp;not&nbsp;stored<br>print_exception&nbsp;:&nbsp;bool<br>&nbsp;&nbsp;&nbsp;&nbsp;Determines&nbsp;whether&nbsp;or&nbsp;not&nbsp;the&nbsp;exception&nbsp;is&nbsp;printed&nbsp;to&nbsp;stdout&nbsp;when&nbsp;caught.&nbsp;Defaults<br>&nbsp;&nbsp;&nbsp;&nbsp;to&nbsp;True</blockquote></p>\n",
       "</HTMLRemove>\n",
       "<DocSection type=\"decorator\" name=\"catch\" module=\"metaflow\" heading_level=\"3\" link=\"https://github.com/Netflix/metaflow/tree/master/metaflow/plugins/catch_decorator.py#L22\">\n",
       "<SigArgSection>\n",
       "<SigArg name=\"...\" />\n",
       "</SigArgSection>\n",
       "<Description summary=\"Step decorator to specify error handling for your step.\" extended_summary=\"This decorator indicates that exceptions in the step should be caught and not fail the entire\\nflow.\\n\\nThis can be used in conjunction with the @retry decorator. In that case, catch will only\\nactivate if all retries fail and will catch the last exception thrown by the last retry.\\n\\nTo use, annotate your step as follows:\\n```\\n@catch(var='foo')\\n@step\\ndef myStep(self):\\n    ...\\n```\" />\n",
       "<ParamSection name=\"Parameters\">\n",
       "\t<Parameter name=\"var\" type=\"string\" desc=\"Name of the artifact in which to store the caught exception. If not specified,\\nthe exception is not stored\" />\n",
       "\t<Parameter name=\"print_exception\" type=\"bool\" desc=\"Determines whether or not the exception is printed to stdout when caught. Defaults\\nto True\" />\n",
       "</ParamSection>\n",
       "</DocSection>"
      ],
      "text/plain": [
       "<nbdoc.showdoc.ShowDoc at 0x7f95b0a43610>"
      ]
     },
     "execution_count": 4,
     "metadata": {},
     "output_type": "execute_result"
    }
   ],
   "source": [
    "ShowDoc(catch)"
   ]
  },
  {
   "cell_type": "code",
   "execution_count": 5,
   "id": "4ed3e10c-15e3-496c-8a87-8d19ef692056",
   "metadata": {
    "execution": {
     "iopub.execute_input": "2022-06-15T19:29:10.045571Z",
     "iopub.status.busy": "2022-06-15T19:29:10.044573Z",
     "iopub.status.idle": "2022-06-15T19:29:10.055436Z",
     "shell.execute_reply": "2022-06-15T19:29:10.055971Z"
    }
   },
   "outputs": [
    {
     "data": {
      "text/html": [
       "<HTMLRemove>\n",
       "<h3> <code>decorator</code> <span style=\"color:Brown\">@conda</span> <em>(...)</em><a href=\"https://github.com/Netflix/metaflow/tree/master/metaflow/plugins/conda/conda_step_decorator.py#L38\" style=\"float:right\">[source]</a></h3><strong>metaflow</strong><p><blockquote>Conda&nbsp;decorator&nbsp;that&nbsp;sets&nbsp;the&nbsp;Conda&nbsp;environment&nbsp;for&nbsp;your&nbsp;step<br><br>To&nbsp;use,&nbsp;add&nbsp;this&nbsp;decorator&nbsp;to&nbsp;your&nbsp;step:<br>```<br>@conda<br>@step<br>def&nbsp;MyStep(self):<br>&nbsp;&nbsp;&nbsp;&nbsp;...<br>```<br><br>Information&nbsp;in&nbsp;this&nbsp;decorator&nbsp;will&nbsp;override&nbsp;any&nbsp;eventual&nbsp;@conda_base&nbsp;flow&nbsp;level&nbsp;decorator.<br>Parameters<br>----------<br>libraries&nbsp;:&nbsp;Dict<br>&nbsp;&nbsp;&nbsp;&nbsp;Libraries&nbsp;to&nbsp;use&nbsp;for&nbsp;this&nbsp;flow.&nbsp;The&nbsp;key&nbsp;is&nbsp;the&nbsp;name&nbsp;of&nbsp;the&nbsp;package&nbsp;and&nbsp;the&nbsp;value<br>&nbsp;&nbsp;&nbsp;&nbsp;is&nbsp;the&nbsp;version&nbsp;to&nbsp;use.&nbsp;Defaults&nbsp;to&nbsp;{}<br>python&nbsp;:&nbsp;string<br>&nbsp;&nbsp;&nbsp;&nbsp;Version&nbsp;of&nbsp;Python&nbsp;to&nbsp;use&nbsp;(for&nbsp;example:&nbsp;'3.7.4').&nbsp;Defaults&nbsp;to&nbsp;None<br>&nbsp;&nbsp;&nbsp;&nbsp;(will&nbsp;use&nbsp;the&nbsp;current&nbsp;python&nbsp;version)<br>disabled&nbsp;:&nbsp;bool<br>&nbsp;&nbsp;&nbsp;&nbsp;If&nbsp;set&nbsp;to&nbsp;True,&nbsp;disables&nbsp;Conda.&nbsp;Defaults&nbsp;to&nbsp;False</blockquote></p>\n",
       "</HTMLRemove>\n",
       "<DocSection type=\"decorator\" name=\"conda\" module=\"metaflow\" heading_level=\"3\" link=\"https://github.com/Netflix/metaflow/tree/master/metaflow/plugins/conda/conda_step_decorator.py#L38\">\n",
       "<SigArgSection>\n",
       "<SigArg name=\"...\" />\n",
       "</SigArgSection>\n",
       "<Description summary=\"Conda decorator that sets the Conda environment for your step\" extended_summary=\"To use, add this decorator to your step:\\n```\\n@conda\\n@step\\ndef MyStep(self):\\n    ...\\n```\\n\\nInformation in this decorator will override any eventual @conda_base flow level decorator.\\nParameters\\n----------\\nlibraries : Dict\\n    Libraries to use for this flow. The key is the name of the package and the value\\n    is the version to use. Defaults to {}\\npython : string\\n    Version of Python to use (for example: '3.7.4'). Defaults to None\\n    (will use the current python version)\\ndisabled : bool\\n    If set to True, disables Conda. Defaults to False\" />\n",
       "<ParamSection name=\"Attributes\">\n",
       "\t<Parameter name=\"conda\" />\n",
       "\t<Parameter name=\"environments\" />\n",
       "</ParamSection>\n",
       "</DocSection>"
      ],
      "text/plain": [
       "<nbdoc.showdoc.ShowDoc at 0x7f95b0a43640>"
      ]
     },
     "execution_count": 5,
     "metadata": {},
     "output_type": "execute_result"
    }
   ],
   "source": [
    "ShowDoc(conda)"
   ]
  },
  {
   "cell_type": "code",
   "execution_count": 6,
   "id": "4d4ab7a9-d598-49ff-aaa8-e15b817fc04a",
   "metadata": {
    "execution": {
     "iopub.execute_input": "2022-06-15T19:29:10.065360Z",
     "iopub.status.busy": "2022-06-15T19:29:10.064631Z",
     "iopub.status.idle": "2022-06-15T19:29:10.067312Z",
     "shell.execute_reply": "2022-06-15T19:29:10.067845Z"
    }
   },
   "outputs": [
    {
     "data": {
      "text/html": [
       "<HTMLRemove>\n",
       "<h3> <code>decorator</code> <span style=\"color:Brown\">@kubernetes</span> <em>(...)</em><a href=\"https://github.com/Netflix/metaflow/tree/master/metaflow/plugins/kubernetes/kubernetes_decorator.py#L36\" style=\"float:right\">[source]</a></h3><strong>metaflow</strong><p><blockquote>Step&nbsp;decorator&nbsp;to&nbsp;specify&nbsp;that&nbsp;this&nbsp;step&nbsp;should&nbsp;execute&nbsp;on&nbsp;Kubernetes.<br><br>This&nbsp;decorator&nbsp;indicates&nbsp;that&nbsp;your&nbsp;step&nbsp;should&nbsp;execute&nbsp;on&nbsp;Kubernetes.&nbsp;Note<br>that&nbsp;you&nbsp;can&nbsp;apply&nbsp;this&nbsp;decorator&nbsp;automatically&nbsp;to&nbsp;all&nbsp;steps&nbsp;using&nbsp;the<br>```--with&nbsp;kubernetes```&nbsp;argument&nbsp;when&nbsp;calling&nbsp;run/resume.&nbsp;Step&nbsp;level<br>decorators&nbsp;within&nbsp;the&nbsp;code&nbsp;are&nbsp;overrides&nbsp;and&nbsp;will&nbsp;force&nbsp;a&nbsp;step&nbsp;to&nbsp;execute<br>on&nbsp;Kubernetes&nbsp;regardless&nbsp;of&nbsp;the&nbsp;```--with```&nbsp;specification.<br><br>To&nbsp;use,&nbsp;annotate&nbsp;your&nbsp;step&nbsp;as&nbsp;follows:<br>```<br>@kubernetes<br>@step<br>def&nbsp;my_step(self):<br>&nbsp;&nbsp;&nbsp;&nbsp;...<br>```<br>Parameters<br>----------<br>cpu&nbsp;:&nbsp;int<br>&nbsp;&nbsp;&nbsp;&nbsp;Number&nbsp;of&nbsp;CPUs&nbsp;required&nbsp;for&nbsp;this&nbsp;step.&nbsp;Defaults&nbsp;to&nbsp;1.&nbsp;If&nbsp;@resources&nbsp;is<br>&nbsp;&nbsp;&nbsp;&nbsp;also&nbsp;present,&nbsp;the&nbsp;maximum&nbsp;value&nbsp;from&nbsp;all&nbsp;decorators&nbsp;is&nbsp;used<br>memory&nbsp;:&nbsp;int<br>&nbsp;&nbsp;&nbsp;&nbsp;Memory&nbsp;size&nbsp;(in&nbsp;MB)&nbsp;required&nbsp;for&nbsp;this&nbsp;step.&nbsp;Defaults&nbsp;to&nbsp;4096.&nbsp;If<br>&nbsp;&nbsp;&nbsp;&nbsp;@resources&nbsp;is&nbsp;also&nbsp;present,&nbsp;the&nbsp;maximum&nbsp;value&nbsp;from&nbsp;all&nbsp;decorators&nbsp;is<br>&nbsp;&nbsp;&nbsp;&nbsp;used<br>disk&nbsp;:&nbsp;int<br>&nbsp;&nbsp;&nbsp;&nbsp;Disk&nbsp;size&nbsp;(in&nbsp;MB)&nbsp;required&nbsp;for&nbsp;this&nbsp;step.&nbsp;Defaults&nbsp;to&nbsp;10GB.&nbsp;If<br>&nbsp;&nbsp;&nbsp;&nbsp;@resources&nbsp;is&nbsp;also&nbsp;present,&nbsp;the&nbsp;maximum&nbsp;value&nbsp;from&nbsp;all&nbsp;decorators&nbsp;is<br>&nbsp;&nbsp;&nbsp;&nbsp;used<br>image&nbsp;:&nbsp;string<br>&nbsp;&nbsp;&nbsp;&nbsp;Docker&nbsp;image&nbsp;to&nbsp;use&nbsp;when&nbsp;launching&nbsp;on&nbsp;Kubernetes.&nbsp;If&nbsp;not&nbsp;specified,&nbsp;a<br>&nbsp;&nbsp;&nbsp;&nbsp;default&nbsp;docker&nbsp;image&nbsp;mapping&nbsp;to&nbsp;the&nbsp;current&nbsp;version&nbsp;of&nbsp;Python&nbsp;is&nbsp;used</blockquote></p>\n",
       "</HTMLRemove>\n",
       "<DocSection type=\"decorator\" name=\"kubernetes\" module=\"metaflow\" heading_level=\"3\" link=\"https://github.com/Netflix/metaflow/tree/master/metaflow/plugins/kubernetes/kubernetes_decorator.py#L36\">\n",
       "<SigArgSection>\n",
       "<SigArg name=\"...\" />\n",
       "</SigArgSection>\n",
       "<Description summary=\"Step decorator to specify that this step should execute on Kubernetes.\" extended_summary=\"This decorator indicates that your step should execute on Kubernetes. Note\\nthat you can apply this decorator automatically to all steps using the\\n```--with kubernetes``` argument when calling run/resume. Step level\\ndecorators within the code are overrides and will force a step to execute\\non Kubernetes regardless of the ```--with``` specification.\\n\\nTo use, annotate your step as follows:\\n```\\n@kubernetes\\n@step\\ndef my_step(self):\\n    ...\\n```\\nParameters\\n----------\\ncpu : int\\n    Number of CPUs required for this step. Defaults to 1. If @resources is\\n    also present, the maximum value from all decorators is used\\nmemory : int\\n    Memory size (in MB) required for this step. Defaults to 4096. If\\n    @resources is also present, the maximum value from all decorators is\\n    used\\ndisk : int\\n    Disk size (in MB) required for this step. Defaults to 10GB. If\\n    @resources is also present, the maximum value from all decorators is\\n    used\\nimage : string\\n    Docker image to use when launching on Kubernetes. If not specified, a\\n    default docker image mapping to the current version of Python is used\" />\n",
       "<ParamSection name=\"Attributes\">\n",
       "\t<Parameter name=\"package_sha\" />\n",
       "\t<Parameter name=\"package_url\" />\n",
       "\t<Parameter name=\"run_time_limit\" />\n",
       "</ParamSection>\n",
       "</DocSection>"
      ],
      "text/plain": [
       "<nbdoc.showdoc.ShowDoc at 0x7f95b0a43490>"
      ]
     },
     "execution_count": 6,
     "metadata": {},
     "output_type": "execute_result"
    }
   ],
   "source": [
    "ShowDoc(kubernetes)"
   ]
  },
  {
   "cell_type": "code",
   "execution_count": 7,
   "id": "4e6be9e3-61ba-47f5-b3d3-9ec7a86641f9",
   "metadata": {
    "execution": {
     "iopub.execute_input": "2022-06-15T19:29:10.073800Z",
     "iopub.status.busy": "2022-06-15T19:29:10.073115Z",
     "iopub.status.idle": "2022-06-15T19:29:10.075390Z",
     "shell.execute_reply": "2022-06-15T19:29:10.075905Z"
    }
   },
   "outputs": [
    {
     "data": {
      "text/html": [
       "<HTMLRemove>\n",
       "<h3> <code>decorator</code> <span style=\"color:Brown\">@parallel</span> <em>(...)</em><a href=\"https://github.com/Netflix/metaflow/tree/master/metaflow/plugins/parallel_decorator.py#L8\" style=\"float:right\">[source]</a></h3><strong>metaflow</strong><p><blockquote>Base&nbsp;class&nbsp;for&nbsp;all&nbsp;step&nbsp;decorators.<br><br>Example:<br><br>@my_decorator<br>@step<br>def&nbsp;a(self):<br>&nbsp;&nbsp;&nbsp;&nbsp;pass<br><br>@my_decorator<br>@step<br>def&nbsp;b(self):<br>&nbsp;&nbsp;&nbsp;&nbsp;pass<br><br>To&nbsp;make&nbsp;the&nbsp;above&nbsp;work,&nbsp;define&nbsp;a&nbsp;subclass<br><br>class&nbsp;MyDecorator(StepDecorator):<br>&nbsp;&nbsp;&nbsp;&nbsp;name&nbsp;=&nbsp;\"my_decorator\"<br><br>and&nbsp;include&nbsp;it&nbsp;in&nbsp;plugins.STEP_DECORATORS.&nbsp;Now&nbsp;both&nbsp;a()&nbsp;and&nbsp;b()<br>get&nbsp;an&nbsp;instance&nbsp;of&nbsp;MyDecorator,&nbsp;so&nbsp;you&nbsp;can&nbsp;keep&nbsp;step-specific<br>state&nbsp;easily.<br><br>TODO&nbsp;(savin):&nbsp;Initialize&nbsp;the&nbsp;decorators&nbsp;with&nbsp;flow,&nbsp;graph,<br>&nbsp;&nbsp;&nbsp;&nbsp;&nbsp;&nbsp;&nbsp;&nbsp;&nbsp;&nbsp;&nbsp;&nbsp;&nbsp;&nbsp;step.__name__&nbsp;etc.,&nbsp;so&nbsp;that&nbsp;we&nbsp;don't&nbsp;have&nbsp;to<br>&nbsp;&nbsp;&nbsp;&nbsp;&nbsp;&nbsp;&nbsp;&nbsp;&nbsp;&nbsp;&nbsp;&nbsp;&nbsp;&nbsp;pass&nbsp;them&nbsp;around&nbsp;with&nbsp;every&nbsp;lifecycle&nbsp;call.</blockquote></p>\n",
       "</HTMLRemove>\n",
       "<DocSection type=\"decorator\" name=\"parallel\" module=\"metaflow\" heading_level=\"3\" link=\"https://github.com/Netflix/metaflow/tree/master/metaflow/plugins/parallel_decorator.py#L8\">\n",
       "<SigArgSection>\n",
       "<SigArg name=\"...\" />\n",
       "</SigArgSection>\n",
       "\n",
       "\n",
       "</DocSection>"
      ],
      "text/plain": [
       "<nbdoc.showdoc.ShowDoc at 0x7f95d0935ee0>"
      ]
     },
     "execution_count": 7,
     "metadata": {},
     "output_type": "execute_result"
    }
   ],
   "source": [
    "ShowDoc(parallel)"
   ]
  },
  {
   "cell_type": "code",
   "execution_count": 8,
   "id": "d36a7cd6-777e-4377-9873-c4369e54e4e0",
   "metadata": {
    "execution": {
     "iopub.execute_input": "2022-06-15T19:29:10.078928Z",
     "iopub.status.busy": "2022-06-15T19:29:10.078253Z",
     "iopub.status.idle": "2022-06-15T19:29:10.082172Z",
     "shell.execute_reply": "2022-06-15T19:29:10.082740Z"
    }
   },
   "outputs": [
    {
     "data": {
      "text/html": [
       "<HTMLRemove>\n",
       "<h3> <code>decorator</code> <span style=\"color:Brown\">@project</span> <em>(...)</em><a href=\"https://github.com/Netflix/metaflow/tree/master/metaflow/plugins/project_decorator.py#L15\" style=\"float:right\">[source]</a></h3><strong>metaflow</strong><p><blockquote>Base&nbsp;class&nbsp;for&nbsp;all&nbsp;decorators.</blockquote></p>\n",
       "</HTMLRemove>\n",
       "<DocSection type=\"decorator\" name=\"project\" module=\"metaflow\" heading_level=\"3\" link=\"https://github.com/Netflix/metaflow/tree/master/metaflow/plugins/project_decorator.py#L15\">\n",
       "<SigArgSection>\n",
       "<SigArg name=\"...\" />\n",
       "</SigArgSection>\n",
       "\n",
       "\n",
       "</DocSection>"
      ],
      "text/plain": [
       "<nbdoc.showdoc.ShowDoc at 0x7f95d09280a0>"
      ]
     },
     "execution_count": 8,
     "metadata": {},
     "output_type": "execute_result"
    }
   ],
   "source": [
    "ShowDoc(project)"
   ]
  },
  {
   "cell_type": "code",
   "execution_count": 9,
   "id": "5c0675d5-2cc1-4261-bbac-51e463cdd183",
   "metadata": {
    "execution": {
     "iopub.execute_input": "2022-06-15T19:29:10.085798Z",
     "iopub.status.busy": "2022-06-15T19:29:10.085120Z",
     "iopub.status.idle": "2022-06-15T19:29:10.088284Z",
     "shell.execute_reply": "2022-06-15T19:29:10.089193Z"
    }
   },
   "outputs": [
    {
     "data": {
      "text/html": [
       "<HTMLRemove>\n",
       "<h3> <code>decorator</code> <span style=\"color:Brown\">@resources</span> <em>(...)</em><a href=\"https://github.com/Netflix/metaflow/tree/master/metaflow/plugins/resources_decorator.py#L4\" style=\"float:right\">[source]</a></h3><strong>metaflow</strong><p><blockquote>Step&nbsp;decorator&nbsp;to&nbsp;specify&nbsp;the&nbsp;resources&nbsp;needed&nbsp;when&nbsp;executing&nbsp;this&nbsp;step.<br><br>This&nbsp;decorator&nbsp;passes&nbsp;this&nbsp;information&nbsp;along&nbsp;to&nbsp;container&nbsp;orchestrator<br>(AWS&nbsp;Batch,&nbsp;Kubernetes,&nbsp;etc.)&nbsp;when&nbsp;requesting&nbsp;resources&nbsp;to&nbsp;execute&nbsp;this<br>step.<br><br>This&nbsp;decorator&nbsp;is&nbsp;ignored&nbsp;if&nbsp;the&nbsp;execution&nbsp;of&nbsp;the&nbsp;step&nbsp;happens&nbsp;locally.<br><br>To&nbsp;use,&nbsp;annotate&nbsp;your&nbsp;step&nbsp;as&nbsp;follows:<br>```<br>@resources(cpu=32)<br>@step<br>def&nbsp;my_step(self):<br>&nbsp;&nbsp;&nbsp;&nbsp;...<br>```<br>Parameters<br>----------<br>cpu&nbsp;:&nbsp;int<br>&nbsp;&nbsp;&nbsp;&nbsp;Number&nbsp;of&nbsp;CPUs&nbsp;required&nbsp;for&nbsp;this&nbsp;step.&nbsp;Defaults&nbsp;to&nbsp;1<br>gpu&nbsp;:&nbsp;int<br>&nbsp;&nbsp;&nbsp;&nbsp;Number&nbsp;of&nbsp;GPUs&nbsp;required&nbsp;for&nbsp;this&nbsp;step.&nbsp;Defaults&nbsp;to&nbsp;0<br>memory&nbsp;:&nbsp;int<br>&nbsp;&nbsp;&nbsp;&nbsp;Memory&nbsp;size&nbsp;(in&nbsp;MB)&nbsp;required&nbsp;for&nbsp;this&nbsp;step.&nbsp;Defaults&nbsp;to&nbsp;4096<br>shared_memory&nbsp;:&nbsp;int<br>&nbsp;&nbsp;&nbsp;&nbsp;The&nbsp;value&nbsp;for&nbsp;the&nbsp;size&nbsp;(in&nbsp;MiB)&nbsp;of&nbsp;the&nbsp;/dev/shm&nbsp;volume&nbsp;for&nbsp;this&nbsp;step.<br>&nbsp;&nbsp;&nbsp;&nbsp;This&nbsp;parameter&nbsp;maps&nbsp;to&nbsp;the&nbsp;--shm-size&nbsp;option&nbsp;to&nbsp;docker&nbsp;run&nbsp;.</blockquote></p>\n",
       "</HTMLRemove>\n",
       "<DocSection type=\"decorator\" name=\"resources\" module=\"metaflow\" heading_level=\"3\" link=\"https://github.com/Netflix/metaflow/tree/master/metaflow/plugins/resources_decorator.py#L4\">\n",
       "<SigArgSection>\n",
       "<SigArg name=\"...\" />\n",
       "</SigArgSection>\n",
       "<Description summary=\"Step decorator to specify the resources needed when executing this step.\" extended_summary=\"This decorator passes this information along to container orchestrator\\n(AWS Batch, Kubernetes, etc.) when requesting resources to execute this\\nstep.\\n\\nThis decorator is ignored if the execution of the step happens locally.\\n\\nTo use, annotate your step as follows:\\n```\\n@resources(cpu=32)\\n@step\\ndef my_step(self):\\n    ...\\n```\\nParameters\\n----------\\ncpu : int\\n    Number of CPUs required for this step. Defaults to 1\\ngpu : int\\n    Number of GPUs required for this step. Defaults to 0\\nmemory : int\\n    Memory size (in MB) required for this step. Defaults to 4096\\nshared_memory : int\\n    The value for the size (in MiB) of the /dev/shm volume for this step.\\n    This parameter maps to the --shm-size option to docker run .\" />\n",
       "\n",
       "</DocSection>"
      ],
      "text/plain": [
       "<nbdoc.showdoc.ShowDoc at 0x7f95d09285e0>"
      ]
     },
     "execution_count": 9,
     "metadata": {},
     "output_type": "execute_result"
    }
   ],
   "source": [
    "ShowDoc(resources)"
   ]
  },
  {
   "cell_type": "code",
   "execution_count": 10,
   "id": "b11cf8e0-f2f4-46f9-b489-c21376c0383e",
   "metadata": {
    "execution": {
     "iopub.execute_input": "2022-06-15T19:29:10.096877Z",
     "iopub.status.busy": "2022-06-15T19:29:10.094795Z",
     "iopub.status.idle": "2022-06-15T19:29:10.104972Z",
     "shell.execute_reply": "2022-06-15T19:29:10.101394Z"
    }
   },
   "outputs": [
    {
     "data": {
      "text/html": [
       "<HTMLRemove>\n",
       "<h3> <code>decorator</code> <span style=\"color:Brown\">@step</span> <em>(...)</em><a href=\"https://github.com/Netflix/metaflow/tree/master/metaflow/decorators.py#L493\" style=\"float:right\">[source]</a></h3><strong>metaflow</strong><p><blockquote>The&nbsp;step&nbsp;decorator.&nbsp;Makes&nbsp;a&nbsp;method&nbsp;a&nbsp;step&nbsp;in&nbsp;the&nbsp;workflow.</blockquote></p>\n",
       "</HTMLRemove>\n",
       "<DocSection type=\"decorator\" name=\"step\" module=\"metaflow\" heading_level=\"3\" link=\"https://github.com/Netflix/metaflow/tree/master/metaflow/decorators.py#L493\">\n",
       "<SigArgSection>\n",
       "<SigArg name=\"...\" />\n",
       "</SigArgSection>\n",
       "<Description summary=\"The step decorator. Makes a method a step in the workflow.\" />\n",
       "\n",
       "</DocSection>"
      ],
      "text/plain": [
       "<nbdoc.showdoc.ShowDoc at 0x7f95d0928eb0>"
      ]
     },
     "execution_count": 10,
     "metadata": {},
     "output_type": "execute_result"
    }
   ],
   "source": [
    "ShowDoc(step, name='step')"
   ]
  }
 ],
 "metadata": {
  "kernelspec": {
   "display_name": "Python 3.9.7 ('base')",
   "language": "python",
   "name": "python397jvsc74a57bd042fd40e048e0585f88ec242f050f7ef0895cf845a8dd1159352394e5826cd102"
  },
  "language_info": {
   "codemirror_mode": {
    "name": "ipython",
    "version": 3
   },
   "file_extension": ".py",
   "mimetype": "text/x-python",
   "name": "python",
   "nbconvert_exporter": "python",
   "pygments_lexer": "ipython3",
   "version": "3.9.7"
  }
 },
 "nbformat": 4,
 "nbformat_minor": 5
}
