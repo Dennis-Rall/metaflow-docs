{
 "cells": [
  {
   "cell_type": "markdown",
   "id": "1ceb26f6-c12a-4818-8288-a8147a5d3ace",
   "metadata": {},
   "source": [
    "# The Client API"
   ]
  },
  {
   "cell_type": "markdown",
   "id": "4c4b2bc8-65c5-4ea8-a51b-7c9b6c5348a9",
   "metadata": {},
   "source": [
    "The client API allows you to inspect data and artifacts from your flows."
   ]
  },
  {
   "cell_type": "code",
   "execution_count": 1,
   "id": "d1e0717d-dcdd-43f8-9116-1fbe15200503",
   "metadata": {
    "execution": {
     "iopub.execute_input": "2022-06-15T19:17:43.012581Z",
     "iopub.status.busy": "2022-06-15T19:17:43.009940Z",
     "iopub.status.idle": "2022-06-15T19:17:44.428485Z",
     "shell.execute_reply": "2022-06-15T19:17:44.429123Z"
    }
   },
   "outputs": [],
   "source": [
    "#meta:tag=hide\n",
    "from nbdoc.showdoc import ShowDoc\n",
    "from IPython import display\n",
    "from functools import partial\n",
    "from metaflow import Flow, Run, Step, Task\n",
    "ShowDoc = partial(ShowDoc, module_nm='metaflow')"
   ]
  },
  {
   "cell_type": "code",
   "execution_count": 2,
   "id": "be46136f-68d0-4b73-b53c-a6da21023ea7",
   "metadata": {
    "execution": {
     "iopub.execute_input": "2022-06-15T19:17:44.433431Z",
     "iopub.status.busy": "2022-06-15T19:17:44.432585Z",
     "iopub.status.idle": "2022-06-15T19:17:44.448478Z",
     "shell.execute_reply": "2022-06-15T19:17:44.449188Z"
    }
   },
   "outputs": [
    {
     "data": {
      "text/html": [
       "<HTMLRemove>\n",
       "<h3> <code>class</code> <span style=\"color:Brown\">Flow</span> <em>(*args, **kwargs)</em><a href=\"https://github.com/Netflix/metaflow/tree/master/metaflow/client/core.py#L1721\" style=\"float:right\">[source]</a></h3><strong>metaflow</strong><p><blockquote>A&nbsp;Flow&nbsp;represents&nbsp;all&nbsp;existing&nbsp;flows&nbsp;with&nbsp;a&nbsp;certain&nbsp;name,&nbsp;in&nbsp;other&nbsp;words,<br>classes&nbsp;derived&nbsp;from&nbsp;'FlowSpec'<br><br>As&nbsp;such,&nbsp;it&nbsp;contains&nbsp;all&nbsp;Runs&nbsp;(executions&nbsp;of&nbsp;a&nbsp;flow)&nbsp;related&nbsp;to&nbsp;this&nbsp;flow.<br><br>Attributes<br>----------<br>latest_run&nbsp;:&nbsp;Run<br>&nbsp;&nbsp;&nbsp;&nbsp;Latest&nbsp;Run&nbsp;(in&nbsp;progress&nbsp;or&nbsp;completed,&nbsp;successfully&nbsp;or&nbsp;not)&nbsp;of&nbsp;this&nbsp;Flow<br>latest_successful_run&nbsp;:&nbsp;Run<br>&nbsp;&nbsp;&nbsp;&nbsp;Latest&nbsp;successfully&nbsp;completed&nbsp;Run&nbsp;of&nbsp;this&nbsp;Flow</blockquote></p>\n",
       "</HTMLRemove>\n",
       "<DocSection type=\"class\" name=\"Flow\" module=\"metaflow\" heading_level=\"3\" link=\"https://github.com/Netflix/metaflow/tree/master/metaflow/client/core.py#L1721\">\n",
       "<SigArgSection>\n",
       "<SigArg name=\"*args\" /><SigArg name=\"**kwargs\" />\n",
       "</SigArgSection>\n",
       "<Description summary=\"A Flow represents all existing flows with a certain name, in other words,\\nclasses derived from 'FlowSpec'\" extended_summary=\"As such, it contains all Runs (executions of a flow) related to this flow.\" />\n",
       "<ParamSection name=\"Attributes\">\n",
       "\t<Parameter name=\"latest_run\" type=\"Run\" desc=\"Latest Run (in progress or completed, successfully or not) of this Flow\" />\n",
       "\t<Parameter name=\"latest_successful_run\" type=\"Run\" desc=\"Latest successfully completed Run of this Flow\" />\n",
       "</ParamSection>\n",
       "</DocSection>"
      ],
      "text/plain": [
       "<nbdoc.showdoc.ShowDoc at 0x7ff4f81243a0>"
      ]
     },
     "execution_count": 2,
     "metadata": {},
     "output_type": "execute_result"
    }
   ],
   "source": [
    "ShowDoc(Flow)"
   ]
  },
  {
   "cell_type": "code",
   "execution_count": 3,
   "id": "aa03d75d-c0cc-4d5b-a65a-bab43e5061fe",
   "metadata": {
    "execution": {
     "iopub.execute_input": "2022-06-15T19:17:44.462201Z",
     "iopub.status.busy": "2022-06-15T19:17:44.461344Z",
     "iopub.status.idle": "2022-06-15T19:17:44.464302Z",
     "shell.execute_reply": "2022-06-15T19:17:44.464906Z"
    }
   },
   "outputs": [
    {
     "data": {
      "text/html": [
       "<HTMLRemove>\n",
       "<h3> <code>class</code> <span style=\"color:Brown\">Run</span> <em>(pathspec=None, attempt=None, _object=None, _parent=None, _namespace_check=True)</em><a href=\"https://github.com/Netflix/metaflow/tree/master/metaflow/client/core.py#L1562\" style=\"float:right\">[source]</a></h3><strong>metaflow</strong><p><blockquote>A&nbsp;Run&nbsp;represents&nbsp;an&nbsp;execution&nbsp;of&nbsp;a&nbsp;Flow<br><br>As&nbsp;such,&nbsp;it&nbsp;contains&nbsp;all&nbsp;Steps&nbsp;associated&nbsp;with&nbsp;the&nbsp;flow.<br><br>Attributes<br>----------<br>data&nbsp;:&nbsp;MetaflowData<br>&nbsp;&nbsp;&nbsp;&nbsp;Container&nbsp;of&nbsp;all&nbsp;data&nbsp;artifacts&nbsp;produced&nbsp;by&nbsp;this&nbsp;run<br>successful&nbsp;:&nbsp;boolean<br>&nbsp;&nbsp;&nbsp;&nbsp;True&nbsp;if&nbsp;the&nbsp;run&nbsp;successfully&nbsp;completed<br>finished&nbsp;:&nbsp;boolean<br>&nbsp;&nbsp;&nbsp;&nbsp;True&nbsp;if&nbsp;the&nbsp;run&nbsp;completed<br>finished_at&nbsp;:&nbsp;datetime<br>&nbsp;&nbsp;&nbsp;&nbsp;Time&nbsp;this&nbsp;run&nbsp;finished<br>code&nbsp;:&nbsp;MetaflowCode<br>&nbsp;&nbsp;&nbsp;&nbsp;Code&nbsp;package&nbsp;for&nbsp;this&nbsp;run&nbsp;(if&nbsp;present)<br>end_task&nbsp;:&nbsp;Task<br>&nbsp;&nbsp;&nbsp;&nbsp;Task&nbsp;for&nbsp;the&nbsp;end&nbsp;step&nbsp;(if&nbsp;it&nbsp;is&nbsp;present&nbsp;already)</blockquote></p>\n",
       "</HTMLRemove>\n",
       "<DocSection type=\"class\" name=\"Run\" module=\"metaflow\" heading_level=\"3\" link=\"https://github.com/Netflix/metaflow/tree/master/metaflow/client/core.py#L1562\">\n",
       "<SigArgSection>\n",
       "<SigArg name=\"pathspec\" default=\"None\" /><SigArg name=\"attempt\" default=\"None\" /><SigArg name=\"_object\" default=\"None\" /><SigArg name=\"_parent\" default=\"None\" /><SigArg name=\"_namespace_check\" default=\"True\" />\n",
       "</SigArgSection>\n",
       "<Description summary=\"A Run represents an execution of a Flow\" extended_summary=\"As such, it contains all Steps associated with the flow.\" />\n",
       "<ParamSection name=\"Attributes\">\n",
       "\t<Parameter name=\"data\" type=\"MetaflowData\" desc=\"Container of all data artifacts produced by this run\" />\n",
       "\t<Parameter name=\"successful\" type=\"boolean\" desc=\"True if the run successfully completed\" />\n",
       "\t<Parameter name=\"finished\" type=\"boolean\" desc=\"True if the run completed\" />\n",
       "\t<Parameter name=\"finished_at\" type=\"datetime\" desc=\"Time this run finished\" />\n",
       "\t<Parameter name=\"code\" type=\"MetaflowCode\" desc=\"Code package for this run (if present)\" />\n",
       "\t<Parameter name=\"end_task\" type=\"Task\" desc=\"Task for the end step (if it is present already)\" />\n",
       "</ParamSection>\n",
       "</DocSection>"
      ],
      "text/plain": [
       "<nbdoc.showdoc.ShowDoc at 0x7ff569b15490>"
      ]
     },
     "execution_count": 3,
     "metadata": {},
     "output_type": "execute_result"
    }
   ],
   "source": [
    "ShowDoc(Run)"
   ]
  },
  {
   "cell_type": "code",
   "execution_count": 4,
   "id": "66c080c4-3a2d-4212-b04d-61c48b582f77",
   "metadata": {
    "execution": {
     "iopub.execute_input": "2022-06-15T19:17:44.519805Z",
     "iopub.status.busy": "2022-06-15T19:17:44.519106Z",
     "iopub.status.idle": "2022-06-15T19:17:44.521483Z",
     "shell.execute_reply": "2022-06-15T19:17:44.522002Z"
    }
   },
   "outputs": [
    {
     "data": {
      "text/html": [
       "<HTMLRemove>\n",
       "<h3> <code>class</code> <span style=\"color:Brown\">Step</span> <em>(pathspec=None, attempt=None, _object=None, _parent=None, _namespace_check=True)</em><a href=\"https://github.com/Netflix/metaflow/tree/master/metaflow/client/core.py#L1424\" style=\"float:right\">[source]</a></h3><strong>metaflow</strong><p><blockquote>A&nbsp;Step&nbsp;represents&nbsp;a&nbsp;user-defined&nbsp;Step&nbsp;(a&nbsp;method&nbsp;annotated&nbsp;with&nbsp;the&nbsp;@step&nbsp;decorator).<br><br>As&nbsp;such,&nbsp;it&nbsp;contains&nbsp;all&nbsp;Tasks&nbsp;associated&nbsp;with&nbsp;the&nbsp;step&nbsp;(ie:&nbsp;all&nbsp;executions&nbsp;of&nbsp;the<br>Step).&nbsp;A&nbsp;linear&nbsp;Step&nbsp;will&nbsp;have&nbsp;only&nbsp;one&nbsp;associated&nbsp;task&nbsp;whereas&nbsp;a&nbsp;foreach&nbsp;Step&nbsp;will&nbsp;have<br>multiple&nbsp;Tasks.<br><br>Attributes<br>----------<br>task&nbsp;:&nbsp;Task<br>&nbsp;&nbsp;&nbsp;&nbsp;Returns&nbsp;a&nbsp;Task&nbsp;object&nbsp;from&nbsp;the&nbsp;step<br>finished_at&nbsp;:&nbsp;datetime<br>&nbsp;&nbsp;&nbsp;&nbsp;Time&nbsp;this&nbsp;step&nbsp;finished&nbsp;(time&nbsp;of&nbsp;completion&nbsp;of&nbsp;the&nbsp;last&nbsp;task)<br>environment_info&nbsp;:&nbsp;Dict<br>&nbsp;&nbsp;&nbsp;&nbsp;Information&nbsp;about&nbsp;the&nbsp;execution&nbsp;environment&nbsp;(for&nbsp;example&nbsp;Conda)</blockquote></p>\n",
       "</HTMLRemove>\n",
       "<DocSection type=\"class\" name=\"Step\" module=\"metaflow\" heading_level=\"3\" link=\"https://github.com/Netflix/metaflow/tree/master/metaflow/client/core.py#L1424\">\n",
       "<SigArgSection>\n",
       "<SigArg name=\"pathspec\" default=\"None\" /><SigArg name=\"attempt\" default=\"None\" /><SigArg name=\"_object\" default=\"None\" /><SigArg name=\"_parent\" default=\"None\" /><SigArg name=\"_namespace_check\" default=\"True\" />\n",
       "</SigArgSection>\n",
       "<Description summary=\"A Step represents a user-defined Step (a method annotated with the @step decorator).\" extended_summary=\"As such, it contains all Tasks associated with the step (ie: all executions of the\\nStep). A linear Step will have only one associated task whereas a foreach Step will have\\nmultiple Tasks.\" />\n",
       "<ParamSection name=\"Attributes\">\n",
       "\t<Parameter name=\"task\" type=\"Task\" desc=\"Returns a Task object from the step\" />\n",
       "\t<Parameter name=\"finished_at\" type=\"datetime\" desc=\"Time this step finished (time of completion of the last task)\" />\n",
       "\t<Parameter name=\"environment_info\" type=\"Dict\" desc=\"Information about the execution environment (for example Conda)\" />\n",
       "</ParamSection>\n",
       "</DocSection>"
      ],
      "text/plain": [
       "<nbdoc.showdoc.ShowDoc at 0x7ff4f8124bb0>"
      ]
     },
     "execution_count": 4,
     "metadata": {},
     "output_type": "execute_result"
    }
   ],
   "source": [
    "ShowDoc(Step)"
   ]
  },
  {
   "cell_type": "code",
   "execution_count": 5,
   "id": "702ae375-8cb0-4d0f-bbd2-8a4947eccaad",
   "metadata": {
    "execution": {
     "iopub.execute_input": "2022-06-15T19:17:44.537996Z",
     "iopub.status.busy": "2022-06-15T19:17:44.537295Z",
     "iopub.status.idle": "2022-06-15T19:17:44.539792Z",
     "shell.execute_reply": "2022-06-15T19:17:44.540344Z"
    }
   },
   "outputs": [
    {
     "data": {
      "text/html": [
       "<HTMLRemove>\n",
       "<h3> <code>class</code> <span style=\"color:Brown\">Task</span> <em>(*args, **kwargs)</em><a href=\"https://github.com/Netflix/metaflow/tree/master/metaflow/client/core.py#L896\" style=\"float:right\">[source]</a></h3><strong>metaflow</strong><p><blockquote>A&nbsp;Task&nbsp;represents&nbsp;an&nbsp;execution&nbsp;of&nbsp;a&nbsp;step.<br><br>As&nbsp;such,&nbsp;it&nbsp;contains&nbsp;all&nbsp;data&nbsp;artifacts&nbsp;associated&nbsp;with&nbsp;that&nbsp;execution&nbsp;as<br>well&nbsp;as&nbsp;all&nbsp;metadata&nbsp;associated&nbsp;with&nbsp;the&nbsp;execution.<br><br>Note&nbsp;that&nbsp;you&nbsp;can&nbsp;also&nbsp;get&nbsp;information&nbsp;about&nbsp;a&nbsp;specific&nbsp;*attempt*&nbsp;of&nbsp;a<br>task.&nbsp;By&nbsp;default,&nbsp;the&nbsp;latest&nbsp;finished&nbsp;attempt&nbsp;is&nbsp;returned&nbsp;but&nbsp;you&nbsp;can<br>explicitly&nbsp;get&nbsp;information&nbsp;about&nbsp;a&nbsp;specific&nbsp;attempt&nbsp;by&nbsp;using&nbsp;the<br>following&nbsp;syntax&nbsp;when&nbsp;creating&nbsp;a&nbsp;task:<br>`Task('flow/run/step/task',&nbsp;attempt=<attempt>)`.&nbsp;Note&nbsp;that&nbsp;you&nbsp;will&nbsp;not&nbsp;be&nbsp;able&nbsp;to<br>access&nbsp;a&nbsp;specific&nbsp;attempt&nbsp;of&nbsp;a&nbsp;task&nbsp;through&nbsp;the&nbsp;`.tasks`&nbsp;method&nbsp;of&nbsp;a&nbsp;step<br>for&nbsp;example&nbsp;(that&nbsp;will&nbsp;always&nbsp;return&nbsp;the&nbsp;latest&nbsp;attempt).<br><br>Attributes<br>----------<br>metadata&nbsp;:&nbsp;List[Metadata]<br>&nbsp;&nbsp;&nbsp;&nbsp;List&nbsp;of&nbsp;all&nbsp;metadata&nbsp;associated&nbsp;with&nbsp;the&nbsp;task<br>metadata_dict&nbsp;:&nbsp;Dict<br>&nbsp;&nbsp;&nbsp;&nbsp;Dictionary&nbsp;where&nbsp;the&nbsp;keys&nbsp;are&nbsp;the&nbsp;names&nbsp;of&nbsp;the&nbsp;metadata&nbsp;and&nbsp;the&nbsp;value&nbsp;are&nbsp;the&nbsp;values<br>&nbsp;&nbsp;&nbsp;&nbsp;associated&nbsp;with&nbsp;those&nbsp;names<br>data&nbsp;:&nbsp;MetaflowData<br>&nbsp;&nbsp;&nbsp;&nbsp;Container&nbsp;of&nbsp;all&nbsp;data&nbsp;artifacts&nbsp;produced&nbsp;by&nbsp;this&nbsp;task<br>artifacts&nbsp;:&nbsp;MetaflowArtifacts<br>&nbsp;&nbsp;&nbsp;&nbsp;Container&nbsp;of&nbsp;DataArtifact&nbsp;objects&nbsp;produced&nbsp;by&nbsp;this&nbsp;task<br>successful&nbsp;:&nbsp;boolean<br>&nbsp;&nbsp;&nbsp;&nbsp;True&nbsp;if&nbsp;the&nbsp;task&nbsp;successfully&nbsp;completed<br>finished&nbsp;:&nbsp;boolean<br>&nbsp;&nbsp;&nbsp;&nbsp;True&nbsp;if&nbsp;the&nbsp;task&nbsp;completed<br>exception&nbsp;:&nbsp;object<br>&nbsp;&nbsp;&nbsp;&nbsp;Exception&nbsp;raised&nbsp;by&nbsp;this&nbsp;task&nbsp;if&nbsp;there&nbsp;was&nbsp;one<br>finished_at&nbsp;:&nbsp;datetime<br>&nbsp;&nbsp;&nbsp;&nbsp;Time&nbsp;this&nbsp;task&nbsp;finished<br>runtime_name&nbsp;:&nbsp;string<br>&nbsp;&nbsp;&nbsp;&nbsp;Runtime&nbsp;this&nbsp;task&nbsp;was&nbsp;executed&nbsp;on<br>stdout&nbsp;:&nbsp;string<br>&nbsp;&nbsp;&nbsp;&nbsp;Standard&nbsp;output&nbsp;for&nbsp;the&nbsp;task&nbsp;execution<br>stderr&nbsp;:&nbsp;string<br>&nbsp;&nbsp;&nbsp;&nbsp;Standard&nbsp;error&nbsp;output&nbsp;for&nbsp;the&nbsp;task&nbsp;execution<br>code&nbsp;:&nbsp;MetaflowCode<br>&nbsp;&nbsp;&nbsp;&nbsp;Code&nbsp;package&nbsp;for&nbsp;this&nbsp;task&nbsp;(if&nbsp;present)<br>environment_info&nbsp;:&nbsp;Dict<br>&nbsp;&nbsp;&nbsp;&nbsp;Information&nbsp;about&nbsp;the&nbsp;execution&nbsp;environment&nbsp;(for&nbsp;example&nbsp;Conda)</blockquote></p>\n",
       "</HTMLRemove>\n",
       "<DocSection type=\"class\" name=\"Task\" module=\"metaflow\" heading_level=\"3\" link=\"https://github.com/Netflix/metaflow/tree/master/metaflow/client/core.py#L896\">\n",
       "<SigArgSection>\n",
       "<SigArg name=\"*args\" /><SigArg name=\"**kwargs\" />\n",
       "</SigArgSection>\n",
       "<Description summary=\"A Task represents an execution of a step.\" extended_summary=\"As such, it contains all data artifacts associated with that execution as\\nwell as all metadata associated with the execution.\\n\\nNote that you can also get information about a specific *attempt* of a\\ntask. By default, the latest finished attempt is returned but you can\\nexplicitly get information about a specific attempt by using the\\nfollowing syntax when creating a task:\\n`Task('flow/run/step/task', attempt=<attempt>)`. Note that you will not be able to\\naccess a specific attempt of a task through the `.tasks` method of a step\\nfor example (that will always return the latest attempt).\" />\n",
       "<ParamSection name=\"Attributes\">\n",
       "\t<Parameter name=\"metadata\" type=\"List[Metadata]\" desc=\"List of all metadata associated with the task\" />\n",
       "\t<Parameter name=\"metadata_dict\" type=\"Dict\" desc=\"Dictionary where the keys are the names of the metadata and the value are the values\\nassociated with those names\" />\n",
       "\t<Parameter name=\"data\" type=\"MetaflowData\" desc=\"Container of all data artifacts produced by this task\" />\n",
       "\t<Parameter name=\"artifacts\" type=\"MetaflowArtifacts\" desc=\"Container of DataArtifact objects produced by this task\" />\n",
       "\t<Parameter name=\"successful\" type=\"boolean\" desc=\"True if the task successfully completed\" />\n",
       "\t<Parameter name=\"finished\" type=\"boolean\" desc=\"True if the task completed\" />\n",
       "\t<Parameter name=\"exception\" type=\"object\" desc=\"Exception raised by this task if there was one\" />\n",
       "\t<Parameter name=\"finished_at\" type=\"datetime\" desc=\"Time this task finished\" />\n",
       "\t<Parameter name=\"runtime_name\" type=\"string\" desc=\"Runtime this task was executed on\" />\n",
       "\t<Parameter name=\"stdout\" type=\"string\" desc=\"Standard output for the task execution\" />\n",
       "\t<Parameter name=\"stderr\" type=\"string\" desc=\"Standard error output for the task execution\" />\n",
       "\t<Parameter name=\"code\" type=\"MetaflowCode\" desc=\"Code package for this task (if present)\" />\n",
       "\t<Parameter name=\"environment_info\" type=\"Dict\" desc=\"Information about the execution environment (for example Conda)\" />\n",
       "</ParamSection>\n",
       "</DocSection>"
      ],
      "text/plain": [
       "<nbdoc.showdoc.ShowDoc at 0x7ff4f8124580>"
      ]
     },
     "execution_count": 5,
     "metadata": {},
     "output_type": "execute_result"
    }
   ],
   "source": [
    "ShowDoc(Task)"
   ]
  }
 ],
 "metadata": {
  "kernelspec": {
   "display_name": "Python 3.9.7 ('base')",
   "language": "python",
   "name": "python397jvsc74a57bd042fd40e048e0585f88ec242f050f7ef0895cf845a8dd1159352394e5826cd102"
  },
  "language_info": {
   "codemirror_mode": {
    "name": "ipython",
    "version": 3
   },
   "file_extension": ".py",
   "mimetype": "text/x-python",
   "name": "python",
   "nbconvert_exporter": "python",
   "pygments_lexer": "ipython3",
   "version": "3.9.7"
  }
 },
 "nbformat": 4,
 "nbformat_minor": 5
}
