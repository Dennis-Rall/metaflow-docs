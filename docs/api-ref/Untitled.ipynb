{
 "cells": [
  {
   "cell_type": "code",
   "execution_count": 11,
   "id": "951a9082-be6e-4b20-a41a-28aa59851691",
   "metadata": {},
   "outputs": [],
   "source": [
    "#meta:tag=hide\n",
    "from nbdoc.showdoc import ShowDoc\n",
    "from IPython import display\n",
    "from functools import partial\n",
    "from metaflow import FlowSpec, Parameter\n",
    "from metaflow.current import Current\n",
    "ShowDoc = partial(ShowDoc, module_nm='metaflow')"
   ]
  },
  {
   "cell_type": "code",
   "execution_count": 12,
   "id": "4c0fdfde-9373-43d8-88c1-e7e2146fd502",
   "metadata": {},
   "outputs": [
    {
     "data": {
      "text/html": [
       "<HTMLRemove>\n",
       "<h3> <code>class</code> <span style=\"color:Brown\">FlowSpec</span> <em>(use_cli=True)</em><a href=\"https://github.com/Netflix/metaflow/tree/master/metaflow/flowspec.py#L48\" style=\"float:right\">[source]</a></h3><strong>metaflow</strong><p><blockquote>Main&nbsp;class&nbsp;from&nbsp;which&nbsp;all&nbsp;Flows&nbsp;should&nbsp;inherit.<br><br>Attributes<br>----------<br>script_name<br>index<br>input</blockquote></p>\n",
       "</HTMLRemove>\n",
       "<DocSection type=\"class\" name=\"FlowSpec\" module=\"metaflow\" heading_level=\"3\" link=\"https://github.com/Netflix/metaflow/tree/master/metaflow/flowspec.py#L48\">\n",
       "<SigArgSection>\n",
       "<SigArg name=\"use_cli\" default=\"True\" />\n",
       "</SigArgSection>\n",
       "<Description summary=\"Main class from which all Flows should inherit.\" />\n",
       "<ParamSection name=\"Attributes\">\n",
       "\t<Parameter name=\"script_name\" />\n",
       "\t<Parameter name=\"index\" />\n",
       "\t<Parameter name=\"input\" />\n",
       "</ParamSection>\n",
       "</DocSection>"
      ],
      "text/plain": [
       "<nbdoc.showdoc.ShowDoc at 0x7fb958ab3880>"
      ]
     },
     "execution_count": 12,
     "metadata": {},
     "output_type": "execute_result"
    }
   ],
   "source": [
    "ShowDoc(FlowSpec)"
   ]
  },
  {
   "cell_type": "code",
   "execution_count": 13,
   "id": "16fba17b-5ef4-40e2-b81d-fb2a803584c1",
   "metadata": {},
   "outputs": [
    {
     "data": {
      "text/html": [
       "<HTMLRemove>\n",
       "<h3> <code>class</code> <span style=\"color:Brown\">Parameter</span> <em>(name, **kwargs)</em><a href=\"https://github.com/Netflix/metaflow/tree/master/metaflow/parameters.py#L162\" style=\"float:right\">[source]</a></h3><strong>metaflow</strong>\n",
       "</HTMLRemove>\n",
       "<DocSection type=\"class\" name=\"Parameter\" module=\"metaflow\" heading_level=\"3\" link=\"https://github.com/Netflix/metaflow/tree/master/metaflow/parameters.py#L162\">\n",
       "<SigArgSection>\n",
       "<SigArg name=\"name\" /><SigArg name=\"**kwargs\" />\n",
       "</SigArgSection>\n",
       "\n",
       "<ParamSection name=\"Attributes\">\n",
       "\t<Parameter name=\"is_string_type\" />\n",
       "</ParamSection>\n",
       "</DocSection>"
      ],
      "text/plain": [
       "<nbdoc.showdoc.ShowDoc at 0x7fb958a3ddc0>"
      ]
     },
     "execution_count": 13,
     "metadata": {},
     "output_type": "execute_result"
    }
   ],
   "source": [
    "ShowDoc(Parameter)"
   ]
  },
  {
   "cell_type": "code",
   "execution_count": null,
   "id": "24d9f0f8-4d05-4203-87ff-d09f366c9440",
   "metadata": {},
   "outputs": [],
   "source": [
    "from metaflow import "
   ]
  }
 ],
 "metadata": {
  "kernelspec": {
   "display_name": "Python 3.9.7 ('base')",
   "language": "python",
   "name": "python397jvsc74a57bd042fd40e048e0585f88ec242f050f7ef0895cf845a8dd1159352394e5826cd102"
  },
  "language_info": {
   "codemirror_mode": {
    "name": "ipython",
    "version": 3
   },
   "file_extension": ".py",
   "mimetype": "text/x-python",
   "name": "python",
   "nbconvert_exporter": "python",
   "pygments_lexer": "ipython3",
   "version": "3.9.7"
  }
 },
 "nbformat": 4,
 "nbformat_minor": 5
}
