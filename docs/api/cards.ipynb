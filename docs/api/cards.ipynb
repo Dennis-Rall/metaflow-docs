{
 "cells": [
  {
   "cell_type": "markdown",
   "id": "eb7388b6",
   "metadata": {},
   "source": [
    "# Cards - Visualizing results"
   ]
  },
  {
   "cell_type": "markdown",
   "id": "576777f8",
   "metadata": {},
   "source": [
    "Use Metaflow Cards to [produce human readable reports in workflows](metaflow/visualizing-results). You can enable them by adding [the `@card` decorator](api/decorators/card) in any step.\n",
    "\n",
    "You can optionally customize the card contents using [the card components] documented below. To retrieve a card after a run has finished, use the `get_cards` call e.g. in a notebook or the `card get` command on the CLI."
   ]
  },
  {
   "cell_type": "code",
   "execution_count": 1,
   "id": "a5ef9454",
   "metadata": {
    "execution": {
     "iopub.execute_input": "2022-06-22T04:47:12.593552Z",
     "iopub.status.busy": "2022-06-22T04:47:12.591342Z",
     "iopub.status.idle": "2022-06-22T04:47:13.437570Z",
     "shell.execute_reply": "2022-06-22T04:47:13.438451Z"
    }
   },
   "outputs": [],
   "source": [
    "#meta:tag=hide\n",
    "from functools import partial\n",
    "from nbdoc.showdoc import ShowDoc\n",
    "ShowDoc = partial(ShowDoc, module_nm='metaflow.cards')\n",
    "\n",
    "from metaflow.cards import get_cards"
   ]
  },
  {
   "cell_type": "markdown",
   "id": "ab418a7b",
   "metadata": {},
   "source": [
    "### Retrieving cards"
   ]
  },
  {
   "cell_type": "code",
   "execution_count": 2,
   "id": "09970e68",
   "metadata": {
    "execution": {
     "iopub.execute_input": "2022-06-22T04:47:13.446614Z",
     "iopub.status.busy": "2022-06-22T04:47:13.444276Z",
     "iopub.status.idle": "2022-06-22T04:47:13.462657Z",
     "shell.execute_reply": "2022-06-22T04:47:13.463717Z"
    }
   },
   "outputs": [
    {
     "data": {
      "text/html": [
       "<HTMLRemove>\n",
       "<h3> <code>function</code> <span style=\"color:Brown\">get_cards</span> <em>(task, id=None, type=None, follow_resumed=True)</em><a href=\"https://github.com/Netflix/metaflow/tree/master/metaflow/plugins/cards/card_client.py#L173\" style=\"float:right\">[source]</a></h3><p><blockquote>Get&nbsp;cards&nbsp;related&nbsp;to&nbsp;a&nbsp;Metaflow&nbsp;`Task`<br><br>Args:<br>&nbsp;&nbsp;&nbsp;&nbsp;task&nbsp;(str&nbsp;or&nbsp;`Task`):&nbsp;A&nbsp;metaflow&nbsp;`Task`&nbsp;object&nbsp;or&nbsp;pathspec&nbsp;(flowname/runid/stepname/taskid)<br>&nbsp;&nbsp;&nbsp;&nbsp;type&nbsp;(str,&nbsp;optional):&nbsp;The&nbsp;type&nbsp;of&nbsp;card&nbsp;to&nbsp;retrieve.&nbsp;Defaults&nbsp;to&nbsp;None.<br>&nbsp;&nbsp;&nbsp;&nbsp;follow_resumed&nbsp;(bool,&nbsp;optional):&nbsp;If&nbsp;a&nbsp;Task&nbsp;has&nbsp;been&nbsp;resumed&nbsp;and&nbsp;cloned,&nbsp;then&nbsp;setting&nbsp;this&nbsp;flag&nbsp;will&nbsp;resolve&nbsp;the&nbsp;card&nbsp;for&nbsp;the&nbsp;origin&nbsp;task.&nbsp;Defaults&nbsp;to&nbsp;True.<br><br>Returns:<br>&nbsp;&nbsp;&nbsp;&nbsp;`CardContainer`&nbsp;:&nbsp;A&nbsp;`list`&nbsp;like&nbsp;object&nbsp;that&nbsp;holds&nbsp;`Card`&nbsp;objects.</blockquote></p>\n",
       "</HTMLRemove>\n",
       "<DocSection type=\"function\" name=\"get_cards\" module=\"metaflow.cards\" show_import=\"False\" heading_level=\"3\" link=\"https://github.com/Netflix/metaflow/tree/master/metaflow/plugins/cards/card_client.py#L173\">\n",
       "<SigArgSection>\n",
       "<SigArg name=\"task\" /><SigArg name=\"id\" default=\"None\" /><SigArg name=\"type\" default=\"None\" /><SigArg name=\"follow_resumed\" default=\"True\" />\n",
       "</SigArgSection>\n",
       "<Description summary=\"Get cards related to a Metaflow `Task`\" extended_summary=\"Args:\\n    task (str or `Task`): A metaflow `Task` object or pathspec (flowname/runid/stepname/taskid)\\n    type (str, optional): The type of card to retrieve. Defaults to None.\\n    follow_resumed (bool, optional): If a Task has been resumed and cloned, then setting this flag will resolve the card for the origin task. Defaults to True.\\n\\nReturns:\\n    `CardContainer` : A `list` like object that holds `Card` objects.\" />\n",
       "\n",
       "</DocSection>"
      ],
      "text/plain": [
       "<nbdoc.showdoc.ShowDoc at 0x7fd9cddaa430>"
      ]
     },
     "execution_count": 2,
     "metadata": {},
     "output_type": "execute_result"
    }
   ],
   "source": [
    "ShowDoc(get_cards)"
   ]
  },
  {
   "cell_type": "markdown",
   "id": "1de46198",
   "metadata": {},
   "source": [
    "### Populating card components\n",
    "`current`"
   ]
  },
  {
   "cell_type": "code",
   "execution_count": 3,
   "id": "3e351387",
   "metadata": {
    "execution": {
     "iopub.execute_input": "2022-06-22T04:47:13.471221Z",
     "iopub.status.busy": "2022-06-22T04:47:13.469749Z",
     "iopub.status.idle": "2022-06-22T04:47:13.472365Z",
     "shell.execute_reply": "2022-06-22T04:47:13.473183Z"
    }
   },
   "outputs": [],
   "source": [
    "#meta:tag=hide\n",
    "import inspect\n",
    "from metaflow.plugins.cards.component_serializer import CardComponentCollector\n",
    "\n",
    "class current:\n",
    "    class card:\n",
    "        def append(self):\n",
    "            pass\n",
    "        def extend(self):\n",
    "            pass\n",
    "\n",
    "current.card.append.__doc__ = inspect.getdoc(CardComponentCollector.append)\n",
    "current.card.extend.__doc__ = inspect.getdoc(CardComponentCollector.extend)"
   ]
  },
  {
   "cell_type": "code",
   "execution_count": 4,
   "id": "e3082700",
   "metadata": {
    "execution": {
     "iopub.execute_input": "2022-06-22T04:47:13.479966Z",
     "iopub.status.busy": "2022-06-22T04:47:13.478748Z",
     "iopub.status.idle": "2022-06-22T04:47:13.483937Z",
     "shell.execute_reply": "2022-06-22T04:47:13.483039Z"
    }
   },
   "outputs": [
    {
     "data": {
      "text/html": [
       "<HTMLRemove>\n",
       "<h4> <code>method</code> <span style=\"color:Brown\">current.card.append</span> <em>(self)</em><a href=\"https://github.com/Netflix/metaflow/tree/master/__main__.py#L7\" style=\"float:right\">[source]</a></h4><p><blockquote>Test<br><br>Another<br><br>Line</blockquote></p>\n",
       "</HTMLRemove>\n",
       "<DocSection type=\"method\" name=\"current.card.append\" module=\"metaflow.cards\" show_import=\"False\" heading_level=\"4\" link=\"https://github.com/Netflix/metaflow/tree/master/__main__.py#L7\">\n",
       "<SigArgSection>\n",
       "<SigArg name=\"self\" />\n",
       "</SigArgSection>\n",
       "<Description summary=\"Test\" extended_summary=\"Another\\n\\nLine\" />\n",
       "\n",
       "</DocSection>"
      ],
      "text/plain": [
       "<nbdoc.showdoc.ShowDoc at 0x7fd9cfce7ca0>"
      ]
     },
     "execution_count": 4,
     "metadata": {},
     "output_type": "execute_result"
    }
   ],
   "source": [
    "ShowDoc(current.card.append)"
   ]
  },
  {
   "cell_type": "code",
   "execution_count": 5,
   "id": "e61c24bb",
   "metadata": {
    "execution": {
     "iopub.execute_input": "2022-06-22T04:47:13.490872Z",
     "iopub.status.busy": "2022-06-22T04:47:13.488888Z",
     "iopub.status.idle": "2022-06-22T04:47:13.496530Z",
     "shell.execute_reply": "2022-06-22T04:47:13.495122Z"
    }
   },
   "outputs": [
    {
     "data": {
      "text/html": [
       "<HTMLRemove>\n",
       "<h4> <code>method</code> <span style=\"color:Brown\">current.card.extend</span> <em>(self)</em><a href=\"https://github.com/Netflix/metaflow/tree/master/__main__.py#L9\" style=\"float:right\">[source]</a></h4>\n",
       "</HTMLRemove>\n",
       "<DocSection type=\"method\" name=\"current.card.extend\" module=\"metaflow.cards\" show_import=\"False\" heading_level=\"4\" link=\"https://github.com/Netflix/metaflow/tree/master/__main__.py#L9\">\n",
       "<SigArgSection>\n",
       "<SigArg name=\"self\" />\n",
       "</SigArgSection>\n",
       "\n",
       "\n",
       "</DocSection>"
      ],
      "text/plain": [
       "<nbdoc.showdoc.ShowDoc at 0x7fd9cfce7eb0>"
      ]
     },
     "execution_count": 5,
     "metadata": {},
     "output_type": "execute_result"
    }
   ],
   "source": [
    "ShowDoc(current.card.extend)"
   ]
  },
  {
   "cell_type": "markdown",
   "id": "43623fa8",
   "metadata": {},
   "source": [
    "### Card components"
   ]
  },
  {
   "cell_type": "code",
   "execution_count": null,
   "id": "752c4a43",
   "metadata": {},
   "outputs": [],
   "source": []
  },
  {
   "cell_type": "markdown",
   "id": "a6040f3e",
   "metadata": {},
   "source": [
    "### Defining a custom card\n",
    "\n",
    "https://github.com/outerbounds/metaflow-card-template"
   ]
  },
  {
   "cell_type": "code",
   "execution_count": 6,
   "id": "3dc4881f",
   "metadata": {
    "execution": {
     "iopub.execute_input": "2022-06-22T04:47:13.501584Z",
     "iopub.status.busy": "2022-06-22T04:47:13.500398Z",
     "iopub.status.idle": "2022-06-22T04:47:13.506259Z",
     "shell.execute_reply": "2022-06-22T04:47:13.507428Z"
    }
   },
   "outputs": [
    {
     "data": {
      "text/html": [
       "<HTMLRemove>\n",
       "<h3> <code>class</code> <span style=\"color:Brown\">MetaflowCard</span> <em>(options={}, components=[], graph=None)</em><a href=\"https://github.com/Netflix/metaflow/tree/master/metaflow/plugins/cards/card_modules/card.py#L1\" style=\"float:right\">[source]</a></h3>\n",
       "</HTMLRemove>\n",
       "<DocSection type=\"class\" name=\"MetaflowCard\" module=\"metaflow.cards\" show_import=\"False\" heading_level=\"3\" link=\"https://github.com/Netflix/metaflow/tree/master/metaflow/plugins/cards/card_modules/card.py#L1\">\n",
       "<SigArgSection>\n",
       "<SigArg name=\"options\" default=\"{}\" /><SigArg name=\"components\" default=\"[]\" /><SigArg name=\"graph\" default=\"None\" />\n",
       "</SigArgSection>\n",
       "\n",
       "<ParamSection name=\"Attributes\">\n",
       "\t<Parameter name=\"type\" />\n",
       "</ParamSection>\n",
       "</DocSection>"
      ],
      "text/plain": [
       "<nbdoc.showdoc.ShowDoc at 0x7fd9cfce7fd0>"
      ]
     },
     "execution_count": 6,
     "metadata": {},
     "output_type": "execute_result"
    }
   ],
   "source": [
    "from metaflow.cards import MetaflowCard\n",
    "\n",
    "ShowDoc(MetaflowCard)"
   ]
  },
  {
   "cell_type": "code",
   "execution_count": 7,
   "id": "c71b83c5",
   "metadata": {
    "execution": {
     "iopub.execute_input": "2022-06-22T04:47:13.513677Z",
     "iopub.status.busy": "2022-06-22T04:47:13.511941Z",
     "iopub.status.idle": "2022-06-22T04:47:13.516639Z",
     "shell.execute_reply": "2022-06-22T04:47:13.518012Z"
    }
   },
   "outputs": [
    {
     "data": {
      "text/html": [
       "<HTMLRemove>\n",
       "<h4> <code>method</code> <span style=\"color:Brown\">MetaflowCard.render</span> <em>(self, task)</em><a href=\"https://github.com/Netflix/metaflow/tree/master/metaflow/plugins/cards/card_modules/card.py#L19\" style=\"float:right\">[source]</a></h4><p><blockquote>`render`&nbsp;returns&nbsp;a&nbsp;string.</blockquote></p>\n",
       "</HTMLRemove>\n",
       "<DocSection type=\"method\" name=\"MetaflowCard.render\" module=\"metaflow.cards\" show_import=\"False\" heading_level=\"4\" link=\"https://github.com/Netflix/metaflow/tree/master/metaflow/plugins/cards/card_modules/card.py#L19\">\n",
       "<SigArgSection>\n",
       "<SigArg name=\"self\" /><SigArg name=\"task\" />\n",
       "</SigArgSection>\n",
       "<Description summary=\"`render` returns a string.\" />\n",
       "\n",
       "</DocSection>"
      ],
      "text/plain": [
       "<nbdoc.showdoc.ShowDoc at 0x7fd9cfce7c40>"
      ]
     },
     "execution_count": 7,
     "metadata": {},
     "output_type": "execute_result"
    }
   ],
   "source": [
    "ShowDoc(MetaflowCard.render)"
   ]
  },
  {
   "cell_type": "code",
   "execution_count": null,
   "id": "63ce2466",
   "metadata": {},
   "outputs": [],
   "source": []
  }
 ],
 "metadata": {
  "kernelspec": {
   "display_name": "Python 3",
   "language": "python",
   "name": "python3"
  },
  "language_info": {
   "codemirror_mode": {
    "name": "ipython",
    "version": 3
   },
   "file_extension": ".py",
   "mimetype": "text/x-python",
   "name": "python",
   "nbconvert_exporter": "python",
   "pygments_lexer": "ipython3",
   "version": "3.9.1"
  }
 },
 "nbformat": 4,
 "nbformat_minor": 5
}
