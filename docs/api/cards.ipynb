{
 "cells": [
  {
   "cell_type": "markdown",
   "id": "eb7388b6",
   "metadata": {},
   "source": [
    "# Cards - Visualizing results"
   ]
  },
  {
   "cell_type": "markdown",
   "id": "576777f8",
   "metadata": {},
   "source": [
    "Use Metaflow Cards to [produce human readable reports in workflows](metaflow/visualizing-results). You can enable them by adding [the `@card` decorator](api/decorators/card) in any step.\n",
    "\n",
    "You can optionally customize the card contents using [the card components] documented below. To retrieve a card after a run has finished, use the `get_cards` call e.g. in a notebook or the `card get` command on the CLI."
   ]
  },
  {
   "cell_type": "code",
   "execution_count": 6,
   "id": "a5ef9454",
   "metadata": {},
   "outputs": [],
   "source": [
    "#meta:tag=hide\n",
    "from functools import partial\n",
    "from nbdoc.showdoc import ShowDoc\n",
    "ShowDoc = partial(ShowDoc, module_nm='metaflow.cards')\n",
    "\n",
    "from metaflow.cards import get_cards"
   ]
  },
  {
   "cell_type": "markdown",
   "id": "8339eb66",
   "metadata": {},
   "source": [
    "### Retrieving cards"
   ]
  },
  {
   "cell_type": "code",
   "execution_count": 10,
   "id": "09970e68",
   "metadata": {},
   "outputs": [
    {
     "data": {
      "text/html": [
       "<HTMLRemove>\n",
       "<h3> <code>function</code> <span style=\"color:Brown\">get_cards</span> <em>(task, id=None, type=None, follow_resumed=True)</em><a href=\"https://github.com/Netflix/metaflow/tree/master/metaflow/plugins/cards/card_client.py#L173\" style=\"float:right\">[source]</a></h3><p><blockquote>Get&nbsp;cards&nbsp;related&nbsp;to&nbsp;a&nbsp;Metaflow&nbsp;`Task`<br><br>Args:<br>&nbsp;&nbsp;&nbsp;&nbsp;task&nbsp;(str&nbsp;or&nbsp;`Task`):&nbsp;A&nbsp;metaflow&nbsp;`Task`&nbsp;object&nbsp;or&nbsp;pathspec&nbsp;(flowname/runid/stepname/taskid)<br>&nbsp;&nbsp;&nbsp;&nbsp;type&nbsp;(str,&nbsp;optional):&nbsp;The&nbsp;type&nbsp;of&nbsp;card&nbsp;to&nbsp;retrieve.&nbsp;Defaults&nbsp;to&nbsp;None.<br>&nbsp;&nbsp;&nbsp;&nbsp;follow_resumed&nbsp;(bool,&nbsp;optional):&nbsp;If&nbsp;a&nbsp;Task&nbsp;has&nbsp;been&nbsp;resumed&nbsp;and&nbsp;cloned,&nbsp;then&nbsp;setting&nbsp;this&nbsp;flag&nbsp;will&nbsp;resolve&nbsp;the&nbsp;card&nbsp;for&nbsp;the&nbsp;origin&nbsp;task.&nbsp;Defaults&nbsp;to&nbsp;True.<br><br>Returns:<br>&nbsp;&nbsp;&nbsp;&nbsp;`CardContainer`&nbsp;:&nbsp;A&nbsp;`list`&nbsp;like&nbsp;object&nbsp;that&nbsp;holds&nbsp;`Card`&nbsp;objects.</blockquote></p>\n",
       "</HTMLRemove>\n",
       "<DocSection type=\"function\" name=\"get_cards\" module=\"metaflow.cards\" show_import=\"False\" heading_level=\"3\" link=\"https://github.com/Netflix/metaflow/tree/master/metaflow/plugins/cards/card_client.py#L173\">\n",
       "<SigArgSection>\n",
       "<SigArg name=\"task\" /><SigArg name=\"id\" default=\"None\" /><SigArg name=\"type\" default=\"None\" /><SigArg name=\"follow_resumed\" default=\"True\" />\n",
       "</SigArgSection>\n",
       "<Description summary=\"Get cards related to a Metaflow `Task`\" extended_summary=\"Args:\\n    task (str or `Task`): A metaflow `Task` object or pathspec (flowname/runid/stepname/taskid)\\n    type (str, optional): The type of card to retrieve. Defaults to None.\\n    follow_resumed (bool, optional): If a Task has been resumed and cloned, then setting this flag will resolve the card for the origin task. Defaults to True.\\n\\nReturns:\\n    `CardContainer` : A `list` like object that holds `Card` objects.\" />\n",
       "\n",
       "</DocSection>"
      ],
      "text/plain": [
       "<nbdoc.showdoc.ShowDoc at 0x7fd696568340>"
      ]
     },
     "execution_count": 10,
     "metadata": {},
     "output_type": "execute_result"
    }
   ],
   "source": [
    "ShowDoc(get_cards)"
   ]
  },
  {
   "cell_type": "markdown",
   "id": "bdac3506",
   "metadata": {},
   "source": [
    "### Populating card components\n",
    "`current`"
   ]
  },
  {
   "cell_type": "code",
   "execution_count": 16,
   "id": "792456ef",
   "metadata": {},
   "outputs": [
    {
     "data": {
      "text/html": [
       "<HTMLRemove>\n",
       "<h4> <code>method</code> <span style=\"color:Brown\">CardComponentCollector.append</span> <em>(self, component)</em><a href=\"https://github.com/Netflix/metaflow/tree/master/metaflow/plugins/cards/component_serializer.py#L248\" style=\"float:right\">[source]</a></h4>\n",
       "</HTMLRemove>\n",
       "<DocSection type=\"method\" name=\"CardComponentCollector.append\" module=\"metaflow.cards\" show_import=\"False\" heading_level=\"4\" link=\"https://github.com/Netflix/metaflow/tree/master/metaflow/plugins/cards/component_serializer.py#L248\">\n",
       "<SigArgSection>\n",
       "<SigArg name=\"self\" /><SigArg name=\"component\" />\n",
       "</SigArgSection>\n",
       "\n",
       "\n",
       "</DocSection>"
      ],
      "text/plain": [
       "<nbdoc.showdoc.ShowDoc at 0x7fd696568400>"
      ]
     },
     "execution_count": 16,
     "metadata": {},
     "output_type": "execute_result"
    }
   ],
   "source": [
    "from metaflow.plugins.cards.component_serializer import CardComponentCollector\n",
    "\n",
    "ShowDoc(CardComponentCollector.append)"
   ]
  },
  {
   "cell_type": "code",
   "execution_count": 17,
   "id": "71eba503",
   "metadata": {},
   "outputs": [
    {
     "data": {
      "text/html": [
       "<HTMLRemove>\n",
       "<h4> <code>method</code> <span style=\"color:Brown\">CardComponentCollector.extend</span> <em>(self, components)</em><a href=\"https://github.com/Netflix/metaflow/tree/master/metaflow/plugins/cards/component_serializer.py#L283\" style=\"float:right\">[source]</a></h4>\n",
       "</HTMLRemove>\n",
       "<DocSection type=\"method\" name=\"CardComponentCollector.extend\" module=\"metaflow.cards\" show_import=\"False\" heading_level=\"4\" link=\"https://github.com/Netflix/metaflow/tree/master/metaflow/plugins/cards/component_serializer.py#L283\">\n",
       "<SigArgSection>\n",
       "<SigArg name=\"self\" /><SigArg name=\"components\" />\n",
       "</SigArgSection>\n",
       "\n",
       "\n",
       "</DocSection>"
      ],
      "text/plain": [
       "<nbdoc.showdoc.ShowDoc at 0x7fd694783f10>"
      ]
     },
     "execution_count": 17,
     "metadata": {},
     "output_type": "execute_result"
    }
   ],
   "source": [
    "ShowDoc(CardComponentCollector.extend)"
   ]
  },
  {
   "cell_type": "markdown",
   "id": "b1b7f35d",
   "metadata": {},
   "source": [
    "### Card components"
   ]
  },
  {
   "cell_type": "code",
   "execution_count": null,
   "id": "4245f308",
   "metadata": {},
   "outputs": [],
   "source": []
  },
  {
   "cell_type": "markdown",
   "id": "a95db2c8",
   "metadata": {},
   "source": [
    "### Defining a custom card\n",
    "\n",
    "https://github.com/outerbounds/metaflow-card-template"
   ]
  },
  {
   "cell_type": "code",
   "execution_count": 22,
   "id": "6d03f445",
   "metadata": {},
   "outputs": [
    {
     "data": {
      "text/html": [
       "<HTMLRemove>\n",
       "<h3> <code>class</code> <span style=\"color:Brown\">MetaflowCard</span> <em>(options={}, components=[], graph=None)</em><a href=\"https://github.com/Netflix/metaflow/tree/master/metaflow/plugins/cards/card_modules/card.py#L1\" style=\"float:right\">[source]</a></h3>\n",
       "</HTMLRemove>\n",
       "<DocSection type=\"class\" name=\"MetaflowCard\" module=\"metaflow.cards\" show_import=\"False\" heading_level=\"3\" link=\"https://github.com/Netflix/metaflow/tree/master/metaflow/plugins/cards/card_modules/card.py#L1\">\n",
       "<SigArgSection>\n",
       "<SigArg name=\"options\" default=\"{}\" /><SigArg name=\"components\" default=\"[]\" /><SigArg name=\"graph\" default=\"None\" />\n",
       "</SigArgSection>\n",
       "\n",
       "<ParamSection name=\"Attributes\">\n",
       "\t<Parameter name=\"type\" />\n",
       "</ParamSection>\n",
       "</DocSection>"
      ],
      "text/plain": [
       "<nbdoc.showdoc.ShowDoc at 0x7fd696568c70>"
      ]
     },
     "execution_count": 22,
     "metadata": {},
     "output_type": "execute_result"
    }
   ],
   "source": [
    "from metaflow.cards import MetaflowCard\n",
    "\n",
    "ShowDoc(MetaflowCard)"
   ]
  },
  {
   "cell_type": "code",
   "execution_count": 21,
   "id": "734aa11a",
   "metadata": {},
   "outputs": [
    {
     "data": {
      "text/html": [
       "<HTMLRemove>\n",
       "<h4> <code>method</code> <span style=\"color:Brown\">MetaflowCard.render</span> <em>(self, task)</em><a href=\"https://github.com/Netflix/metaflow/tree/master/metaflow/plugins/cards/card_modules/card.py#L19\" style=\"float:right\">[source]</a></h4><p><blockquote>`render`&nbsp;returns&nbsp;a&nbsp;string.</blockquote></p>\n",
       "</HTMLRemove>\n",
       "<DocSection type=\"method\" name=\"MetaflowCard.render\" module=\"metaflow.cards\" show_import=\"False\" heading_level=\"4\" link=\"https://github.com/Netflix/metaflow/tree/master/metaflow/plugins/cards/card_modules/card.py#L19\">\n",
       "<SigArgSection>\n",
       "<SigArg name=\"self\" /><SigArg name=\"task\" />\n",
       "</SigArgSection>\n",
       "<Description summary=\"`render` returns a string.\" />\n",
       "\n",
       "</DocSection>"
      ],
      "text/plain": [
       "<nbdoc.showdoc.ShowDoc at 0x7fd6965dc100>"
      ]
     },
     "execution_count": 21,
     "metadata": {},
     "output_type": "execute_result"
    }
   ],
   "source": [
    "ShowDoc(MetaflowCard.render)"
   ]
  },
  {
   "cell_type": "code",
   "execution_count": null,
   "id": "7f0471f8",
   "metadata": {},
   "outputs": [],
   "source": []
  }
 ],
 "metadata": {
  "kernelspec": {
   "display_name": "Python 3",
   "language": "python",
   "name": "python3"
  },
  "language_info": {
   "codemirror_mode": {
    "name": "ipython",
    "version": 3
   },
   "file_extension": ".py",
   "mimetype": "text/x-python",
   "name": "python",
   "nbconvert_exporter": "python",
   "pygments_lexer": "ipython3",
   "version": "3.9.1"
  }
 },
 "nbformat": 4,
 "nbformat_minor": 5
}
