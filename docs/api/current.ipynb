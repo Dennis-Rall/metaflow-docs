{
 "cells": [
  {
   "cell_type": "markdown",
   "id": "c0ed0370",
   "metadata": {},
   "source": [
    "# Current - Operating a run"
   ]
  },
  {
   "cell_type": "markdown",
   "id": "cc1c501a",
   "metadata": {},
   "source": [
    "fdo"
   ]
  },
  {
   "cell_type": "code",
   "execution_count": 1,
   "id": "d4c02781",
   "metadata": {
    "execution": {
     "iopub.execute_input": "2022-06-21T02:04:35.415122Z",
     "iopub.status.busy": "2022-06-21T02:04:35.413211Z",
     "iopub.status.idle": "2022-06-21T02:04:36.190743Z",
     "shell.execute_reply": "2022-06-21T02:04:36.191625Z"
    }
   },
   "outputs": [],
   "source": [
    "#meta:tag=hide\n",
    "from functools import partial\n",
    "from nbdoc.showdoc import ShowDoc\n",
    "ShowDoc = partial(ShowDoc, module_nm='metaflow')\n",
    "\n",
    "from metaflow import FlowSpec, step"
   ]
  },
  {
   "cell_type": "code",
   "execution_count": 3,
   "id": "7fdb7184",
   "metadata": {},
   "outputs": [
    {
     "data": {
      "text/html": [
       "<HTMLRemove>\n",
       "<h3> <code>class</code> <span style=\"color:Brown\">FlowSpec</span> <em>(use_cli=True)</em><a href=\"https://github.com/Netflix/metaflow/tree/master/metaflow/flowspec.py#L48\" style=\"float:right\">[source]</a></h3><p><blockquote>Main&nbsp;class&nbsp;from&nbsp;which&nbsp;all&nbsp;Flows&nbsp;should&nbsp;inherit.<br><br>Attributes<br>----------<br>script_name<br>index<br>input</blockquote></p>\n",
       "</HTMLRemove>\n",
       "<DocSection type=\"class\" name=\"FlowSpec\" module=\"metaflow\" show_import=\"False\" heading_level=\"3\" link=\"https://github.com/Netflix/metaflow/tree/master/metaflow/flowspec.py#L48\">\n",
       "<SigArgSection>\n",
       "<SigArg name=\"use_cli\" default=\"True\" />\n",
       "</SigArgSection>\n",
       "<Description summary=\"Main class from which all Flows should inherit.\" />\n",
       "<ParamSection name=\"Attributes\">\n",
       "\t<Parameter name=\"script_name\" />\n",
       "\t<Parameter name=\"index\" />\n",
       "\t<Parameter name=\"input\" />\n",
       "</ParamSection>\n",
       "</DocSection>"
      ],
      "text/plain": [
       "<nbdoc.showdoc.ShowDoc at 0x7fa1d0891b20>"
      ]
     },
     "execution_count": 3,
     "metadata": {},
     "output_type": "execute_result"
    }
   ],
   "source": []
  },
  {
   "cell_type": "code",
   "execution_count": 2,
   "id": "fa61bd9b",
   "metadata": {
    "execution": {
     "iopub.execute_input": "2022-06-21T02:04:36.197568Z",
     "iopub.status.busy": "2022-06-21T02:04:36.196582Z",
     "iopub.status.idle": "2022-06-21T02:04:36.209500Z",
     "shell.execute_reply": "2022-06-21T02:04:36.210410Z"
    }
   },
   "outputs": [
    {
     "data": {
      "text/html": [
       "<HTMLRemove>\n",
       "<h4> <code>method</code> <span style=\"color:Brown\">FlowSpec.next</span> <em>(self, *dsts, **kwargs)</em><a href=\"https://github.com/Netflix/metaflow/tree/master/metaflow/flowspec.py#L492\" style=\"float:right\">[source]</a></h4><p><blockquote>Indicates&nbsp;the&nbsp;next&nbsp;step&nbsp;to&nbsp;execute&nbsp;after&nbsp;this&nbsp;step&nbsp;has&nbsp;completed.<br><br>This&nbsp;statement&nbsp;should&nbsp;appear&nbsp;as&nbsp;the&nbsp;last&nbsp;statement&nbsp;of&nbsp;each&nbsp;step,&nbsp;except<br>the&nbsp;end&nbsp;step.<br><br>There&nbsp;are&nbsp;several&nbsp;valid&nbsp;formats&nbsp;to&nbsp;specify&nbsp;the&nbsp;next&nbsp;step:<br><br>-&nbsp;Straight-line&nbsp;connection:&nbsp;`self.next(self.next_step)`&nbsp;where&nbsp;`next_step`&nbsp;is&nbsp;a&nbsp;method&nbsp;in<br>&nbsp;&nbsp;the&nbsp;current&nbsp;class&nbsp;decorated&nbsp;with&nbsp;the&nbsp;`@step`&nbsp;decorator.<br><br>-&nbsp;Static&nbsp;fan-out&nbsp;connection:&nbsp;`self.next(self.step1,&nbsp;self.step2,&nbsp;...)`&nbsp;where&nbsp;`stepX`&nbsp;are<br>&nbsp;&nbsp;methods&nbsp;in&nbsp;the&nbsp;current&nbsp;class&nbsp;decorated&nbsp;with&nbsp;the&nbsp;`@step`&nbsp;decorator.<br><br>-&nbsp;Foreach&nbsp;branch:<br>&nbsp;&nbsp;```<br>&nbsp;&nbsp;self.next(self.foreach_step,&nbsp;foreach='foreach_iterator')<br>&nbsp;&nbsp;```<br>&nbsp;&nbsp;In&nbsp;this&nbsp;situation,&nbsp;`foreach_step`&nbsp;is&nbsp;a&nbsp;method&nbsp;in&nbsp;the&nbsp;current&nbsp;class&nbsp;decorated&nbsp;with&nbsp;the<br>&nbsp;&nbsp;`@step`&nbsp;docorator&nbsp;and&nbsp;`foreach_iterator`&nbsp;is&nbsp;a&nbsp;variable&nbsp;name&nbsp;in&nbsp;the&nbsp;current&nbsp;class&nbsp;that<br>&nbsp;&nbsp;evaluates&nbsp;to&nbsp;an&nbsp;iterator.&nbsp;A&nbsp;task&nbsp;will&nbsp;be&nbsp;launched&nbsp;for&nbsp;each&nbsp;value&nbsp;in&nbsp;the&nbsp;iterator&nbsp;and<br>&nbsp;&nbsp;each&nbsp;task&nbsp;will&nbsp;execute&nbsp;the&nbsp;code&nbsp;specified&nbsp;by&nbsp;the&nbsp;step&nbsp;`foreach_step`.<br><br>Parameters<br>----------<br>dsts&nbsp;:&nbsp;Method<br>&nbsp;&nbsp;&nbsp;&nbsp;One&nbsp;or&nbsp;more&nbsp;methods&nbsp;annotated&nbsp;with&nbsp;`@step`.<br><br>Raises<br>------<br>InvalidNextException<br>&nbsp;&nbsp;&nbsp;&nbsp;Raised&nbsp;if&nbsp;the&nbsp;format&nbsp;of&nbsp;the&nbsp;arguments&nbsp;does&nbsp;not&nbsp;match&nbsp;one&nbsp;of&nbsp;the&nbsp;ones&nbsp;given&nbsp;above.</blockquote></p>\n",
       "</HTMLRemove>\n",
       "<DocSection type=\"method\" name=\"FlowSpec.next\" module=\"metaflow\" show_import=\"False\" heading_level=\"4\" link=\"https://github.com/Netflix/metaflow/tree/master/metaflow/flowspec.py#L492\">\n",
       "<SigArgSection>\n",
       "<SigArg name=\"self\" /><SigArg name=\"*dsts\" /><SigArg name=\"**kwargs\" />\n",
       "</SigArgSection>\n",
       "<Description summary=\"Indicates the next step to execute after this step has completed.\" extended_summary=\"This statement should appear as the last statement of each step, except\\nthe end step.\\n\\nThere are several valid formats to specify the next step:\\n\\n- Straight-line connection: `self.next(self.next_step)` where `next_step` is a method in\\n  the current class decorated with the `@step` decorator.\\n\\n- Static fan-out connection: `self.next(self.step1, self.step2, ...)` where `stepX` are\\n  methods in the current class decorated with the `@step` decorator.\\n\\n- Foreach branch:\\n  ```\\n  self.next(self.foreach_step, foreach='foreach_iterator')\\n  ```\\n  In this situation, `foreach_step` is a method in the current class decorated with the\\n  `@step` docorator and `foreach_iterator` is a variable name in the current class that\\n  evaluates to an iterator. A task will be launched for each value in the iterator and\\n  each task will execute the code specified by the step `foreach_step`.\" />\n",
       "<ParamSection name=\"Parameters\">\n",
       "\t<Parameter name=\"dsts\" type=\"Method\" desc=\"One or more methods annotated with `@step`.\" />\n",
       "</ParamSection>\n",
       "<ParamSection name=\"Raises\">\n",
       "\t<Parameter type=\"InvalidNextException\" desc=\"Raised if the format of the arguments does not match one of the ones given above.\" />\n",
       "</ParamSection>\n",
       "</DocSection>"
      ],
      "text/plain": [
       "<nbdoc.showdoc.ShowDoc at 0x7fb0f15b8c40>"
      ]
     },
     "execution_count": 2,
     "metadata": {},
     "output_type": "execute_result"
    }
   ],
   "source": [
    "ShowDoc(FlowSpec.next)"
   ]
  },
  {
   "cell_type": "code",
   "execution_count": 3,
   "id": "16a90815",
   "metadata": {
    "execution": {
     "iopub.execute_input": "2022-06-21T02:04:36.218923Z",
     "iopub.status.busy": "2022-06-21T02:04:36.217914Z",
     "iopub.status.idle": "2022-06-21T02:04:36.221534Z",
     "shell.execute_reply": "2022-06-21T02:04:36.222429Z"
    }
   },
   "outputs": [
    {
     "data": {
      "text/html": [
       "<HTMLRemove>\n",
       "<h4> <code>method</code> <span style=\"color:Brown\">FlowSpec.next</span> <em>(self, *dsts, **kwargs)</em><a href=\"https://github.com/Netflix/metaflow/tree/master/metaflow/flowspec.py#L492\" style=\"float:right\">[source]</a></h4><p><blockquote>Indicates&nbsp;the&nbsp;next&nbsp;step&nbsp;to&nbsp;execute&nbsp;after&nbsp;this&nbsp;step&nbsp;has&nbsp;completed.<br><br>This&nbsp;statement&nbsp;should&nbsp;appear&nbsp;as&nbsp;the&nbsp;last&nbsp;statement&nbsp;of&nbsp;each&nbsp;step,&nbsp;except<br>the&nbsp;end&nbsp;step.<br><br>There&nbsp;are&nbsp;several&nbsp;valid&nbsp;formats&nbsp;to&nbsp;specify&nbsp;the&nbsp;next&nbsp;step:<br><br>-&nbsp;Straight-line&nbsp;connection:&nbsp;`self.next(self.next_step)`&nbsp;where&nbsp;`next_step`&nbsp;is&nbsp;a&nbsp;method&nbsp;in<br>&nbsp;&nbsp;the&nbsp;current&nbsp;class&nbsp;decorated&nbsp;with&nbsp;the&nbsp;`@step`&nbsp;decorator.<br><br>-&nbsp;Static&nbsp;fan-out&nbsp;connection:&nbsp;`self.next(self.step1,&nbsp;self.step2,&nbsp;...)`&nbsp;where&nbsp;`stepX`&nbsp;are<br>&nbsp;&nbsp;methods&nbsp;in&nbsp;the&nbsp;current&nbsp;class&nbsp;decorated&nbsp;with&nbsp;the&nbsp;`@step`&nbsp;decorator.<br><br>-&nbsp;Foreach&nbsp;branch:<br>&nbsp;&nbsp;```<br>&nbsp;&nbsp;self.next(self.foreach_step,&nbsp;foreach='foreach_iterator')<br>&nbsp;&nbsp;```<br>&nbsp;&nbsp;In&nbsp;this&nbsp;situation,&nbsp;`foreach_step`&nbsp;is&nbsp;a&nbsp;method&nbsp;in&nbsp;the&nbsp;current&nbsp;class&nbsp;decorated&nbsp;with&nbsp;the<br>&nbsp;&nbsp;`@step`&nbsp;docorator&nbsp;and&nbsp;`foreach_iterator`&nbsp;is&nbsp;a&nbsp;variable&nbsp;name&nbsp;in&nbsp;the&nbsp;current&nbsp;class&nbsp;that<br>&nbsp;&nbsp;evaluates&nbsp;to&nbsp;an&nbsp;iterator.&nbsp;A&nbsp;task&nbsp;will&nbsp;be&nbsp;launched&nbsp;for&nbsp;each&nbsp;value&nbsp;in&nbsp;the&nbsp;iterator&nbsp;and<br>&nbsp;&nbsp;each&nbsp;task&nbsp;will&nbsp;execute&nbsp;the&nbsp;code&nbsp;specified&nbsp;by&nbsp;the&nbsp;step&nbsp;`foreach_step`.<br><br>Parameters<br>----------<br>dsts&nbsp;:&nbsp;Method<br>&nbsp;&nbsp;&nbsp;&nbsp;One&nbsp;or&nbsp;more&nbsp;methods&nbsp;annotated&nbsp;with&nbsp;`@step`.<br><br>Raises<br>------<br>InvalidNextException<br>&nbsp;&nbsp;&nbsp;&nbsp;Raised&nbsp;if&nbsp;the&nbsp;format&nbsp;of&nbsp;the&nbsp;arguments&nbsp;does&nbsp;not&nbsp;match&nbsp;one&nbsp;of&nbsp;the&nbsp;ones&nbsp;given&nbsp;above.</blockquote></p>\n",
       "</HTMLRemove>\n",
       "<DocSection type=\"method\" name=\"FlowSpec.next\" module=\"metaflow\" show_import=\"False\" heading_level=\"4\" link=\"https://github.com/Netflix/metaflow/tree/master/metaflow/flowspec.py#L492\">\n",
       "<SigArgSection>\n",
       "<SigArg name=\"self\" /><SigArg name=\"*dsts\" /><SigArg name=\"**kwargs\" />\n",
       "</SigArgSection>\n",
       "<Description summary=\"Indicates the next step to execute after this step has completed.\" extended_summary=\"This statement should appear as the last statement of each step, except\\nthe end step.\\n\\nThere are several valid formats to specify the next step:\\n\\n- Straight-line connection: `self.next(self.next_step)` where `next_step` is a method in\\n  the current class decorated with the `@step` decorator.\\n\\n- Static fan-out connection: `self.next(self.step1, self.step2, ...)` where `stepX` are\\n  methods in the current class decorated with the `@step` decorator.\\n\\n- Foreach branch:\\n  ```\\n  self.next(self.foreach_step, foreach='foreach_iterator')\\n  ```\\n  In this situation, `foreach_step` is a method in the current class decorated with the\\n  `@step` docorator and `foreach_iterator` is a variable name in the current class that\\n  evaluates to an iterator. A task will be launched for each value in the iterator and\\n  each task will execute the code specified by the step `foreach_step`.\" />\n",
       "<ParamSection name=\"Parameters\">\n",
       "\t<Parameter name=\"dsts\" type=\"Method\" desc=\"One or more methods annotated with `@step`.\" />\n",
       "</ParamSection>\n",
       "<ParamSection name=\"Raises\">\n",
       "\t<Parameter type=\"InvalidNextException\" desc=\"Raised if the format of the arguments does not match one of the ones given above.\" />\n",
       "</ParamSection>\n",
       "</DocSection>"
      ],
      "text/plain": [
       "<nbdoc.showdoc.ShowDoc at 0x7fb0f34e12b0>"
      ]
     },
     "execution_count": 3,
     "metadata": {},
     "output_type": "execute_result"
    }
   ],
   "source": [
    "ShowDoc(FlowSpec.next)"
   ]
  }
 ],
 "metadata": {
  "kernelspec": {
   "display_name": "Python 3",
   "language": "python",
   "name": "python3"
  },
  "language_info": {
   "codemirror_mode": {
    "name": "ipython",
    "version": 3
   },
   "file_extension": ".py",
   "mimetype": "text/x-python",
   "name": "python",
   "nbconvert_exporter": "python",
   "pygments_lexer": "ipython3",
   "version": "3.9.1"
  }
 },
 "nbformat": 4,
 "nbformat_minor": 5
}
