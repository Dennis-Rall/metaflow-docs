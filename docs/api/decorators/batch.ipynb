{
 "cells": [
  {
   "cell_type": "markdown",
   "id": "eb7388b6",
   "metadata": {},
   "source": [
    "# The current object"
   ]
  },
  {
   "cell_type": "markdown",
   "id": "576777f8",
   "metadata": {},
   "source": [
    "fdo"
   ]
  },
  {
   "cell_type": "code",
   "execution_count": 1,
   "id": "a5ef9454",
   "metadata": {
    "execution": {
     "iopub.execute_input": "2022-06-22T05:09:11.804806Z",
     "iopub.status.busy": "2022-06-22T05:09:11.797503Z",
     "iopub.status.idle": "2022-06-22T05:09:12.650017Z",
     "shell.execute_reply": "2022-06-22T05:09:12.651011Z"
    }
   },
   "outputs": [],
   "source": [
    "#meta:tag=hide\n",
    "from functools import partial\n",
    "from nbdoc.showdoc import ShowDoc\n",
    "ShowDoc = partial(ShowDoc, module_nm='metaflow')\n",
    "\n",
    "from metaflow import batch"
   ]
  },
  {
   "cell_type": "code",
   "execution_count": 2,
   "id": "09970e68",
   "metadata": {
    "execution": {
     "iopub.execute_input": "2022-06-22T05:09:12.657060Z",
     "iopub.status.busy": "2022-06-22T05:09:12.655872Z",
     "iopub.status.idle": "2022-06-22T05:09:12.676336Z",
     "shell.execute_reply": "2022-06-22T05:09:12.677178Z"
    }
   },
   "outputs": [
    {
     "data": {
      "text/html": [
       "<HTMLRemove>\n",
       "<h3> <code>decorator</code> <span style=\"color:Brown\">@batch</span> <em>(...)</em><a href=\"https://github.com/Netflix/metaflow/tree/master/metaflow/plugins/aws/batch/batch_decorator.py#L30\" style=\"float:right\">[source]</a></h3><p><blockquote>Step&nbsp;decorator&nbsp;to&nbsp;specify&nbsp;that&nbsp;this&nbsp;step&nbsp;should&nbsp;execute&nbsp;on&nbsp;AWS&nbsp;Batch.<br><br>This&nbsp;decorator&nbsp;indicates&nbsp;that&nbsp;your&nbsp;step&nbsp;should&nbsp;execute&nbsp;on&nbsp;AWS&nbsp;Batch.&nbsp;Note<br>that&nbsp;you&nbsp;can&nbsp;apply&nbsp;this&nbsp;decorator&nbsp;automatically&nbsp;to&nbsp;all&nbsp;steps&nbsp;using&nbsp;the<br>```--with&nbsp;batch```&nbsp;argument&nbsp;when&nbsp;calling&nbsp;run/resume.&nbsp;Step&nbsp;level&nbsp;decorators<br>within&nbsp;the&nbsp;code&nbsp;are&nbsp;overrides&nbsp;and&nbsp;will&nbsp;force&nbsp;a&nbsp;step&nbsp;to&nbsp;execute&nbsp;on&nbsp;AWS&nbsp;Batch<br>regardless&nbsp;of&nbsp;the&nbsp;```--with```&nbsp;specification.<br><br>To&nbsp;use,&nbsp;annotate&nbsp;your&nbsp;step&nbsp;as&nbsp;follows:<br>```<br>@batch<br>@step<br>def&nbsp;my_step(self):<br>&nbsp;&nbsp;&nbsp;&nbsp;...<br>```<br>Parameters<br>----------<br>cpu&nbsp;:&nbsp;int<br>&nbsp;&nbsp;&nbsp;&nbsp;Number&nbsp;of&nbsp;CPUs&nbsp;required&nbsp;for&nbsp;this&nbsp;step.&nbsp;Defaults&nbsp;to&nbsp;1.&nbsp;If&nbsp;@resources&nbsp;is<br>&nbsp;&nbsp;&nbsp;&nbsp;also&nbsp;present,&nbsp;the&nbsp;maximum&nbsp;value&nbsp;from&nbsp;all&nbsp;decorators&nbsp;is&nbsp;used<br>gpu&nbsp;:&nbsp;int<br>&nbsp;&nbsp;&nbsp;&nbsp;Number&nbsp;of&nbsp;GPUs&nbsp;required&nbsp;for&nbsp;this&nbsp;step.&nbsp;Defaults&nbsp;to&nbsp;0.&nbsp;If&nbsp;@resources&nbsp;is<br>&nbsp;&nbsp;&nbsp;&nbsp;also&nbsp;present,&nbsp;the&nbsp;maximum&nbsp;value&nbsp;from&nbsp;all&nbsp;decorators&nbsp;is&nbsp;used<br>memory&nbsp;:&nbsp;int<br>&nbsp;&nbsp;&nbsp;&nbsp;Memory&nbsp;size&nbsp;(in&nbsp;MB)&nbsp;required&nbsp;for&nbsp;this&nbsp;step.&nbsp;Defaults&nbsp;to&nbsp;4096.&nbsp;If<br>&nbsp;&nbsp;&nbsp;&nbsp;@resources&nbsp;is&nbsp;also&nbsp;present,&nbsp;the&nbsp;maximum&nbsp;value&nbsp;from&nbsp;all&nbsp;decorators&nbsp;is<br>&nbsp;&nbsp;&nbsp;&nbsp;used<br>image&nbsp;:&nbsp;string<br>&nbsp;&nbsp;&nbsp;&nbsp;Docker&nbsp;image&nbsp;to&nbsp;use&nbsp;when&nbsp;launching&nbsp;on&nbsp;AWS&nbsp;Batch.&nbsp;If&nbsp;not&nbsp;specified,&nbsp;a<br>&nbsp;&nbsp;&nbsp;&nbsp;default&nbsp;docker&nbsp;image&nbsp;mapping&nbsp;to&nbsp;the&nbsp;current&nbsp;version&nbsp;of&nbsp;Python&nbsp;is&nbsp;used<br>queue&nbsp;:&nbsp;string<br>&nbsp;&nbsp;&nbsp;&nbsp;AWS&nbsp;Batch&nbsp;Job&nbsp;Queue&nbsp;to&nbsp;submit&nbsp;the&nbsp;job&nbsp;to.&nbsp;Defaults&nbsp;to&nbsp;the&nbsp;one<br>&nbsp;&nbsp;&nbsp;&nbsp;specified&nbsp;by&nbsp;the&nbsp;environment&nbsp;variable&nbsp;METAFLOW_BATCH_JOB_QUEUE<br>iam_role&nbsp;:&nbsp;string<br>&nbsp;&nbsp;&nbsp;&nbsp;AWS&nbsp;IAM&nbsp;role&nbsp;that&nbsp;AWS&nbsp;Batch&nbsp;container&nbsp;uses&nbsp;to&nbsp;access&nbsp;AWS&nbsp;cloud&nbsp;resources<br>&nbsp;&nbsp;&nbsp;&nbsp;(Amazon&nbsp;S3,&nbsp;Amazon&nbsp;DynamoDb,&nbsp;etc).&nbsp;Defaults&nbsp;to&nbsp;the&nbsp;one&nbsp;specified&nbsp;by&nbsp;the<br>&nbsp;&nbsp;&nbsp;&nbsp;environment&nbsp;variable&nbsp;METAFLOW_ECS_S3_ACCESS_IAM_ROLE<br>execution_role&nbsp;:&nbsp;string<br>&nbsp;&nbsp;&nbsp;&nbsp;AWS&nbsp;IAM&nbsp;role&nbsp;that&nbsp;AWS&nbsp;Batch&nbsp;can&nbsp;use&nbsp;to&nbsp;trigger&nbsp;AWS&nbsp;Fargate&nbsp;tasks.<br>&nbsp;&nbsp;&nbsp;&nbsp;Defaults&nbsp;to&nbsp;the&nbsp;one&nbsp;determined&nbsp;by&nbsp;the&nbsp;environment&nbsp;variable<br>&nbsp;&nbsp;&nbsp;&nbsp;METAFLOW_ECS_FARGATE_EXECUTION_ROLE&nbsp;https://docs.aws.amazon.com/batch/latest/userguide/execution-IAM-role.html<br>shared_memory&nbsp;:&nbsp;int<br>&nbsp;&nbsp;&nbsp;&nbsp;The&nbsp;value&nbsp;for&nbsp;the&nbsp;size&nbsp;(in&nbsp;MiB)&nbsp;of&nbsp;the&nbsp;/dev/shm&nbsp;volume&nbsp;for&nbsp;this&nbsp;step.<br>&nbsp;&nbsp;&nbsp;&nbsp;This&nbsp;parameter&nbsp;maps&nbsp;to&nbsp;the&nbsp;--shm-size&nbsp;option&nbsp;to&nbsp;docker&nbsp;run.<br>max_swap&nbsp;:&nbsp;int<br>&nbsp;&nbsp;&nbsp;&nbsp;The&nbsp;total&nbsp;amount&nbsp;of&nbsp;swap&nbsp;memory&nbsp;(in&nbsp;MiB)&nbsp;a&nbsp;container&nbsp;can&nbsp;use&nbsp;for&nbsp;this<br>&nbsp;&nbsp;&nbsp;&nbsp;step.&nbsp;This&nbsp;parameter&nbsp;is&nbsp;translated&nbsp;to&nbsp;the&nbsp;--memory-swap&nbsp;option&nbsp;to<br>&nbsp;&nbsp;&nbsp;&nbsp;docker&nbsp;run&nbsp;where&nbsp;the&nbsp;value&nbsp;is&nbsp;the&nbsp;sum&nbsp;of&nbsp;the&nbsp;container&nbsp;memory&nbsp;plus&nbsp;the<br>&nbsp;&nbsp;&nbsp;&nbsp;max_swap&nbsp;value.<br>swappiness&nbsp;:&nbsp;int<br>&nbsp;&nbsp;&nbsp;&nbsp;This&nbsp;allows&nbsp;you&nbsp;to&nbsp;tune&nbsp;memory&nbsp;swappiness&nbsp;behavior&nbsp;for&nbsp;this&nbsp;step.<br>&nbsp;&nbsp;&nbsp;&nbsp;A&nbsp;swappiness&nbsp;value&nbsp;of&nbsp;0&nbsp;causes&nbsp;swapping&nbsp;not&nbsp;to&nbsp;happen&nbsp;unless&nbsp;absolutely<br>&nbsp;&nbsp;&nbsp;&nbsp;necessary.&nbsp;A&nbsp;swappiness&nbsp;value&nbsp;of&nbsp;100&nbsp;causes&nbsp;pages&nbsp;to&nbsp;be&nbsp;swapped&nbsp;very<br>&nbsp;&nbsp;&nbsp;&nbsp;aggressively.&nbsp;Accepted&nbsp;values&nbsp;are&nbsp;whole&nbsp;numbers&nbsp;between&nbsp;0&nbsp;and&nbsp;100.</blockquote></p>\n",
       "</HTMLRemove>\n",
       "<DocSection type=\"decorator\" name=\"batch\" module=\"metaflow\" show_import=\"False\" heading_level=\"3\" link=\"https://github.com/Netflix/metaflow/tree/master/metaflow/plugins/aws/batch/batch_decorator.py#L30\">\n",
       "<SigArgSection>\n",
       "<SigArg name=\"...\" />\n",
       "</SigArgSection>\n",
       "<Description summary=\"Step decorator to specify that this step should execute on AWS Batch.\" extended_summary=\"This decorator indicates that your step should execute on AWS Batch. Note\\nthat you can apply this decorator automatically to all steps using the\\n```--with batch``` argument when calling run/resume. Step level decorators\\nwithin the code are overrides and will force a step to execute on AWS Batch\\nregardless of the ```--with``` specification.\\n\\nTo use, annotate your step as follows:\\n```\\n@batch\\n@step\\ndef my_step(self):\\n    ...\\n```\\nParameters\\n----------\\ncpu : int\\n    Number of CPUs required for this step. Defaults to 1. If @resources is\\n    also present, the maximum value from all decorators is used\\ngpu : int\\n    Number of GPUs required for this step. Defaults to 0. If @resources is\\n    also present, the maximum value from all decorators is used\\nmemory : int\\n    Memory size (in MB) required for this step. Defaults to 4096. If\\n    @resources is also present, the maximum value from all decorators is\\n    used\\nimage : string\\n    Docker image to use when launching on AWS Batch. If not specified, a\\n    default docker image mapping to the current version of Python is used\\nqueue : string\\n    AWS Batch Job Queue to submit the job to. Defaults to the one\\n    specified by the environment variable METAFLOW_BATCH_JOB_QUEUE\\niam_role : string\\n    AWS IAM role that AWS Batch container uses to access AWS cloud resources\\n    (Amazon S3, Amazon DynamoDb, etc). Defaults to the one specified by the\\n    environment variable METAFLOW_ECS_S3_ACCESS_IAM_ROLE\\nexecution_role : string\\n    AWS IAM role that AWS Batch can use to trigger AWS Fargate tasks.\\n    Defaults to the one determined by the environment variable\\n    METAFLOW_ECS_FARGATE_EXECUTION_ROLE https://docs.aws.amazon.com/batch/latest/userguide/execution-IAM-role.html\\nshared_memory : int\\n    The value for the size (in MiB) of the /dev/shm volume for this step.\\n    This parameter maps to the --shm-size option to docker run.\\nmax_swap : int\\n    The total amount of swap memory (in MiB) a container can use for this\\n    step. This parameter is translated to the --memory-swap option to\\n    docker run where the value is the sum of the container memory plus the\\n    max_swap value.\\nswappiness : int\\n    This allows you to tune memory swappiness behavior for this step.\\n    A swappiness value of 0 causes swapping not to happen unless absolutely\\n    necessary. A swappiness value of 100 causes pages to be swapped very\\n    aggressively. Accepted values are whole numbers between 0 and 100.\" />\n",
       "<ParamSection name=\"Attributes\">\n",
       "\t<Parameter name=\"package_sha\" />\n",
       "\t<Parameter name=\"package_url\" />\n",
       "\t<Parameter name=\"run_time_limit\" />\n",
       "</ParamSection>\n",
       "</DocSection>"
      ],
      "text/plain": [
       "<nbdoc.showdoc.ShowDoc at 0x7f9d476aa7c0>"
      ]
     },
     "execution_count": 2,
     "metadata": {},
     "output_type": "execute_result"
    }
   ],
   "source": [
    "ShowDoc(batch)"
   ]
  },
  {
   "cell_type": "code",
   "execution_count": null,
   "id": "c2ee5564",
   "metadata": {},
   "outputs": [],
   "source": []
  }
 ],
 "metadata": {
  "kernelspec": {
   "display_name": "Python 3",
   "language": "python",
   "name": "python3"
  },
  "language_info": {
   "codemirror_mode": {
    "name": "ipython",
    "version": 3
   },
   "file_extension": ".py",
   "mimetype": "text/x-python",
   "name": "python",
   "nbconvert_exporter": "python",
   "pygments_lexer": "ipython3",
   "version": "3.9.1"
  }
 },
 "nbformat": 4,
 "nbformat_minor": 5
}
